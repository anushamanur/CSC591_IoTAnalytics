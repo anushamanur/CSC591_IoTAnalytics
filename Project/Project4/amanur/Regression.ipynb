{
 "cells": [
  {
   "cell_type": "code",
   "execution_count": 40,
   "metadata": {},
   "outputs": [],
   "source": [
    "import pandas as pd\n",
    "import numpy as np\n",
    "from scipy import stats\n",
    "import matplotlib.pyplot as plt\n",
    "import statsmodels.api as sm\n",
    "import scipy as sp\n",
    "from sklearn.metrics import mean_squared_error"
   ]
  },
  {
   "cell_type": "code",
   "execution_count": 8,
   "metadata": {},
   "outputs": [
    {
     "name": "stdout",
     "output_type": "stream",
     "text": [
      "       X1      X2      X3      X4       X5       Y\n",
      "0  13.233  38.320  55.618  91.466  106.030  1770.2\n",
      "1  28.070  32.545  59.518  91.489  110.270  1928.1\n",
      "2  28.240  34.104  57.003  85.282  109.090  1870.0\n",
      "3  16.742  34.120  59.946  82.766   93.893  1625.6\n",
      "4  17.225  21.305  53.570  94.055  103.480  1718.2\n"
     ]
    }
   ],
   "source": [
    "col = ['X1', 'X2','X3','X4','X5','Y']\n",
    "data=pd.read_csv('amanur.csv', names=col)\n",
    "print (data.head(5))"
   ]
  },
  {
   "cell_type": "code",
   "execution_count": 17,
   "metadata": {},
   "outputs": [
    {
     "name": "stdout",
     "output_type": "stream",
     "text": [
      "2000 300 2300\n"
     ]
    }
   ],
   "source": [
    "#Split to training and testing sets\n",
    "df1 = data.iloc[:2000]\n",
    "df2 = data.iloc[2000:]\n",
    "print(len(df1), len(df2), len(data))"
   ]
  },
  {
   "cell_type": "code",
   "execution_count": 18,
   "metadata": {},
   "outputs": [],
   "source": [
    "#Get dependent and independent features\n",
    "X_train=df1.iloc[:,:5]\n",
    "y_train=df1.iloc[:,5:6]\n",
    "X_test=df2.iloc[:,:5]\n",
    "y_test=df2.iloc[:,5:6]"
   ]
  },
  {
   "cell_type": "code",
   "execution_count": 24,
   "metadata": {},
   "outputs": [
    {
     "data": {
      "text/plain": [
       "((2000, 5), (2000, 1))"
      ]
     },
     "execution_count": 24,
     "metadata": {},
     "output_type": "execute_result"
    }
   ],
   "source": [
    "X_train.shape, y_train.shape"
   ]
  },
  {
   "cell_type": "code",
   "execution_count": 38,
   "metadata": {},
   "outputs": [
    {
     "name": "stdout",
     "output_type": "stream",
     "text": [
      "                            OLS Regression Results                            \n",
      "==============================================================================\n",
      "Dep. Variable:                      Y   R-squared:                       1.000\n",
      "Model:                            OLS   Adj. R-squared:                  1.000\n",
      "Method:                 Least Squares   F-statistic:                 5.880e+06\n",
      "Date:                Thu, 21 Nov 2019   Prob (F-statistic):               0.00\n",
      "Time:                        23:03:55   Log-Likelihood:                -8215.7\n",
      "No. Observations:                2000   AIC:                         1.644e+04\n",
      "Df Residuals:                    1995   BIC:                         1.647e+04\n",
      "Df Model:                           5                                         \n",
      "Covariance Type:            nonrobust                                         \n",
      "==============================================================================\n",
      "                 coef    std err          t      P>|t|      [0.025      0.975]\n",
      "------------------------------------------------------------------------------\n",
      "X1             9.0617      0.059    152.628      0.000       8.945       9.178\n",
      "X2             3.4277      0.057     60.042      0.000       3.316       3.540\n",
      "X3             3.3952      0.057     59.775      0.000       3.284       3.507\n",
      "X4             6.2145      0.051    121.802      0.000       6.114       6.315\n",
      "X5             7.0392      0.042    167.893      0.000       6.957       7.121\n",
      "==============================================================================\n",
      "Omnibus:                      172.749   Durbin-Watson:                   2.049\n",
      "Prob(Omnibus):                  0.000   Jarque-Bera (JB):              315.758\n",
      "Skew:                           0.593   Prob(JB):                     2.72e-69\n",
      "Kurtosis:                       4.544   Cond. No.                         28.8\n",
      "==============================================================================\n",
      "\n",
      "Warnings:\n",
      "[1] Standard Errors assume that the covariance matrix of the errors is correctly specified.\n"
     ]
    }
   ],
   "source": [
    "est = sm.OLS(y_train, X_train)\n",
    "res = est.fit()\n",
    "print(res.summary())"
   ]
  },
  {
   "cell_type": "code",
   "execution_count": 43,
   "metadata": {},
   "outputs": [
    {
     "name": "stdout",
     "output_type": "stream",
     "text": [
      "223.68106297903194\n"
     ]
    }
   ],
   "source": [
    "pred = res.predict(X_test)\n",
    "print(mean_squared_error(y_test,pred)) \n"
   ]
  }
 ],
 "metadata": {
  "kernelspec": {
   "display_name": "Python 3",
   "language": "python",
   "name": "python3"
  },
  "language_info": {
   "codemirror_mode": {
    "name": "ipython",
    "version": 3
   },
   "file_extension": ".py",
   "mimetype": "text/x-python",
   "name": "python",
   "nbconvert_exporter": "python",
   "pygments_lexer": "ipython3",
   "version": "3.5.2"
  }
 },
 "nbformat": 4,
 "nbformat_minor": 2
}
