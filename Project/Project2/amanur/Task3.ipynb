{
 "cells": [
  {
   "cell_type": "code",
   "execution_count": 2,
   "metadata": {},
   "outputs": [],
   "source": [
    "import pandas as pd\n",
    "import numpy as np\n",
    "from scipy import stats\n",
    "import matplotlib.pyplot as plt\n",
    "import statsmodels.api as sm\n",
    "import scipy as sp"
   ]
  },
  {
   "cell_type": "code",
   "execution_count": 3,
   "metadata": {},
   "outputs": [
    {
     "name": "stdout",
     "output_type": "stream",
     "text": [
      "        X1      X2      X3      X4      X5        Y\n",
      "0   87.251  126.14  237.10  307.51  370.27  17097.0\n",
      "1   88.363  163.05  276.54  327.71  375.85  17904.0\n",
      "2   66.277  163.95  251.39  307.63  425.08  13164.0\n",
      "3  126.160  160.26  305.48  299.60  374.06  29588.0\n",
      "5  129.800  158.80  290.26  355.78  387.44  31344.0\n"
     ]
    }
   ],
   "source": [
    "data=pd.read_csv('data.csv',  index_col=0)\n",
    "X=data.iloc[:,:5]\n",
    "Y=data.iloc[:,5:6]\n",
    "print (data.head(5))"
   ]
  },
  {
   "cell_type": "code",
   "execution_count": 53,
   "metadata": {},
   "outputs": [
    {
     "name": "stdout",
     "output_type": "stream",
     "text": [
      "                            OLS Regression Results                            \n",
      "==============================================================================\n",
      "Dep. Variable:                      Y   R-squared:                       0.966\n",
      "Model:                            OLS   Adj. R-squared:                  0.966\n",
      "Method:                 Least Squares   F-statistic:                     1615.\n",
      "Date:                Wed, 23 Oct 2019   Prob (F-statistic):          3.90e-204\n",
      "Time:                        23:32:06   Log-Likelihood:                -2435.5\n",
      "No. Observations:                 286   AIC:                             4883.\n",
      "Df Residuals:                     280   BIC:                             4905.\n",
      "Df Model:                           5                                         \n",
      "Covariance Type:            nonrobust                                         \n",
      "==============================================================================\n",
      "                 coef    std err          t      P>|t|      [0.025      0.975]\n",
      "------------------------------------------------------------------------------\n",
      "const      -1.147e+04   1563.626     -7.335      0.000   -1.45e+04   -8391.016\n",
      "X1           256.2235      2.872     89.219      0.000     250.570     261.877\n",
      "X2             5.0065      2.748      1.822      0.070      -0.404      10.417\n",
      "X3             7.3778      2.709      2.723      0.007       2.045      12.710\n",
      "X4             7.1358      2.682      2.661      0.008       1.856      12.415\n",
      "X5             6.6433      2.762      2.405      0.017       1.206      12.080\n",
      "==============================================================================\n",
      "Omnibus:                      123.041   Durbin-Watson:                   2.035\n",
      "Prob(Omnibus):                  0.000   Jarque-Bera (JB):              390.564\n",
      "Skew:                           1.955   Prob(JB):                     1.55e-85\n",
      "Kurtosis:                       7.181   Cond. No.                     1.31e+04\n",
      "==============================================================================\n",
      "\n",
      "Warnings:\n",
      "[1] Standard Errors assume that the covariance matrix of the errors is correctly specified.\n",
      "[2] The condition number is large, 1.31e+04. This might indicate that there are\n",
      "strong multicollinearity or other numerical problems.\n"
     ]
    }
   ],
   "source": [
    "X2 = sm.add_constant(X)\n",
    "est = sm.OLS(Y, X2)\n",
    "res = est.fit()\n",
    "print(res.summary())"
   ]
  },
  {
   "cell_type": "code",
   "execution_count": 54,
   "metadata": {},
   "outputs": [],
   "source": [
    "#Removing X2\n",
    "data=pd.read_csv('data.csv',  index_col=0)\n",
    "X=data.iloc[:,:5]\n",
    "Y=data.iloc[:,5:6]\n",
    "del X['X2']"
   ]
  },
  {
   "cell_type": "code",
   "execution_count": 55,
   "metadata": {},
   "outputs": [
    {
     "name": "stdout",
     "output_type": "stream",
     "text": [
      "                            OLS Regression Results                            \n",
      "==============================================================================\n",
      "Dep. Variable:                      Y   R-squared:                       0.966\n",
      "Model:                            OLS   Adj. R-squared:                  0.966\n",
      "Method:                 Least Squares   F-statistic:                     2002.\n",
      "Date:                Wed, 23 Oct 2019   Prob (F-statistic):          4.26e-205\n",
      "Time:                        23:32:07   Log-Likelihood:                -2437.2\n",
      "No. Observations:                 286   AIC:                             4884.\n",
      "Df Residuals:                     281   BIC:                             4903.\n",
      "Df Model:                           4                                         \n",
      "Covariance Type:            nonrobust                                         \n",
      "==============================================================================\n",
      "                 coef    std err          t      P>|t|      [0.025      0.975]\n",
      "------------------------------------------------------------------------------\n",
      "const      -1.092e+04   1540.671     -7.088      0.000    -1.4e+04   -7887.707\n",
      "X1           256.4282      2.881     88.993      0.000     250.756     262.100\n",
      "X3             7.6714      2.715      2.825      0.005       2.326      13.016\n",
      "X4             7.4837      2.686      2.786      0.006       2.196      12.771\n",
      "X5             6.7539      2.773      2.436      0.015       1.296      12.212\n",
      "==============================================================================\n",
      "Omnibus:                      119.994   Durbin-Watson:                   2.056\n",
      "Prob(Omnibus):                  0.000   Jarque-Bera (JB):              367.777\n",
      "Skew:                           1.919   Prob(JB):                     1.37e-80\n",
      "Kurtosis:                       7.016   Cond. No.                     1.24e+04\n",
      "==============================================================================\n",
      "\n",
      "Warnings:\n",
      "[1] Standard Errors assume that the covariance matrix of the errors is correctly specified.\n",
      "[2] The condition number is large, 1.24e+04. This might indicate that there are\n",
      "strong multicollinearity or other numerical problems.\n"
     ]
    }
   ],
   "source": [
    "X2 = sm.add_constant(X)\n",
    "est = sm.OLS(Y, X2)\n",
    "res = est.fit()\n",
    "print(res.summary())"
   ]
  },
  {
   "cell_type": "code",
   "execution_count": 56,
   "metadata": {},
   "outputs": [
    {
     "name": "stdout",
     "output_type": "stream",
     "text": [
      "Variance :  1477124.0118501198\n"
     ]
    },
    {
     "data": {
      "image/png": "[encoded data removed]",
      "text/plain": [
       "<Figure size 432x288 with 1 Axes>"
      ]
     },
     "metadata": {
      "needs_background": "light"
     },
     "output_type": "display_data"
    }
   ],
   "source": [
    "resi = res.resid \n",
    "print (\"Variance : \", np.var(resi))\n",
    "fig = sm.qqplot(resi, line='s')\n",
    "plt.show()"
   ]
  },
  {
   "cell_type": "code",
   "execution_count": 57,
   "metadata": {},
   "outputs": [
    {
     "data": {
      "text/plain": [
       "(array([-1297.4342941 ,  -603.89968445,    89.6349252 ,   783.16953484,\n",
       "         1476.70414449,  2170.23875414,  2863.77336378,  3557.30797343]),\n",
       " array([122.,  79.,  27.,  23.,  14.,  10.,   5.]))"
      ]
     },
     "execution_count": 57,
     "metadata": {},
     "output_type": "execute_result"
    },
    {
     "data": {
      "image/png": "[encoded data removed]",
      "text/plain": [
       "<Figure size 432x288 with 1 Axes>"
      ]
     },
     "metadata": {
      "needs_background": "light"
     },
     "output_type": "display_data"
    }
   ],
   "source": [
    "freq,bins,_=plt.hist(res.resid, bins=[-1297.4342941 ,  -603.89968445,    89.6349252 ,   783.16953484,\n",
    "        1476.70414449,  2170.23875414,  2863.77336378,  3557.30797343])\n",
    "plt.ylabel('Count')\n",
    "plt.xlabel('Normalized residuals')\n",
    "bins, freq"
   ]
  },
  {
   "cell_type": "code",
   "execution_count": 58,
   "metadata": {},
   "outputs": [
    {
     "data": {
      "text/plain": [
       "118.45226132956992"
      ]
     },
     "execution_count": 58,
     "metadata": {},
     "output_type": "execute_result"
    }
   ],
   "source": [
    "a1, b1 = sp.stats.norm.fit(resi)\n",
    "\n",
    "scaling_factor = 286*(resi.max()-resi.min())/7\n",
    "x_middle = 0.5*(bins[1:] + bins[:-1])\n",
    "expected_values = scaling_factor*sp.stats.norm.pdf(x_middle,a1,b1)\n",
    "chi,_=sp.stats.chisquare(freq,expected_values,ddof=2)\n",
    "chi"
   ]
  },
  {
   "cell_type": "code",
   "execution_count": 59,
   "metadata": {},
   "outputs": [
    {
     "data": {
      "text/plain": [
       "153.9456289686817"
      ]
     },
     "execution_count": 59,
     "metadata": {},
     "output_type": "execute_result"
    }
   ],
   "source": [
    "cdf = stats.norm.cdf(bins, a1, b1)\n",
    "expected_values = 286 * np.diff(cdf)\n",
    "chi,_=sp.stats.chisquare(freq,expected_values,ddof=2)\n",
    "chi"
   ]
  },
  {
   "cell_type": "code",
   "execution_count": 60,
   "metadata": {},
   "outputs": [
    {
     "data": {
      "image/png": "[encoded data removed]",
      "text/plain": [
       "<Figure size 432x288 with 1 Axes>"
      ]
     },
     "metadata": {
      "needs_background": "light"
     },
     "output_type": "display_data"
    }
   ],
   "source": [
    "pred = res.predict()\n",
    "# Plot\n",
    "plt.scatter(pred, resi,  alpha=0.5)\n",
    "plt.title('Scatter plot')\n",
    "plt.xlabel('Y^')\n",
    "plt.ylabel('Residuals')\n",
    "plt.show()"
   ]
  }
 ],
 "metadata": {
  "kernelspec": {
   "display_name": "Python 3",
   "language": "python",
   "name": "python3"
  },
  "language_info": {
   "codemirror_mode": {
    "name": "ipython",
    "version": 3
   },
   "file_extension": ".py",
   "mimetype": "text/x-python",
   "name": "python",
   "nbconvert_exporter": "python",
   "pygments_lexer": "ipython3",
   "version": "3.5.2"
  }
 },
 "nbformat": 4,
 "nbformat_minor": 2
}
