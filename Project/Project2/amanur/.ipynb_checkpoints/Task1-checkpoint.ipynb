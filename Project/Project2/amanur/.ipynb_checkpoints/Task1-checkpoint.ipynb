{
 "cells": [
  {
   "cell_type": "code",
   "execution_count": 54,
   "metadata": {},
   "outputs": [],
   "source": [
    "import pandas as pd\n",
    "import numpy as np\n",
    "from scipy import stats\n",
    "import matplotlib.pyplot as plt\n",
    "import seaborn as sns"
   ]
  },
  {
   "cell_type": "code",
   "execution_count": 55,
   "metadata": {},
   "outputs": [
    {
     "name": "stdout",
     "output_type": "stream",
     "text": [
      "        X1      X2      X3      X4      X5        Y\n",
      "0   87.251  126.14  237.10  307.51  370.27  17097.0\n",
      "1   88.363  163.05  276.54  327.71  375.85  17904.0\n",
      "2   66.277  163.95  251.39  307.63  425.08  13164.0\n",
      "3  126.160  160.26  305.48  299.60  374.06  29588.0\n",
      "4   72.810  177.83  319.25  321.67  475.00  15450.0\n"
     ]
    }
   ],
   "source": [
    "col = ['X1', 'X2','X3','X4','X5','Y']\n",
    "data=pd.read_csv('amanur.csv', names=col)\n",
    "\n",
    "print (data.head(5))"
   ]
  },
  {
   "cell_type": "code",
   "execution_count": 56,
   "metadata": {},
   "outputs": [
    {
     "data": {
      "text/plain": [
       "array([[<matplotlib.axes._subplots.AxesSubplot object at 0x7f7966ff64a8>,\n",
       "        <matplotlib.axes._subplots.AxesSubplot object at 0x7f79670943c8>],\n",
       "       [<matplotlib.axes._subplots.AxesSubplot object at 0x7f79764987b8>,\n",
       "        <matplotlib.axes._subplots.AxesSubplot object at 0x7f7976467d30>],\n",
       "       [<matplotlib.axes._subplots.AxesSubplot object at 0x7f79670372e8>,\n",
       "        <matplotlib.axes._subplots.AxesSubplot object at 0x7f797642b860>]],\n",
       "      dtype=object)"
      ]
     },
     "execution_count": 56,
     "metadata": {},
     "output_type": "execute_result"
    },
    {
     "data": {
      "image/png": "[encoded data removed]",
      "text/plain": [
       "<Figure size 576x576 with 6 Axes>"
      ]
     },
     "metadata": {
      "needs_background": "light"
     },
     "output_type": "display_data"
    }
   ],
   "source": [
    "#Histogram\n",
    "data.hist(figsize=(8,8))"
   ]
  },
  {
   "cell_type": "code",
   "execution_count": 57,
   "metadata": {},
   "outputs": [
    {
     "data": {
      "text/plain": [
       "X1       90.152241\n",
       "X2      160.467323\n",
       "X3      288.623600\n",
       "X4      308.668700\n",
       "X5      392.037167\n",
       "Y     19604.178333\n",
       "dtype: float64"
      ]
     },
     "execution_count": 57,
     "metadata": {},
     "output_type": "execute_result"
    }
   ],
   "source": [
    "#Mean\n",
    "data.mean()"
   ]
  },
  {
   "cell_type": "code",
   "execution_count": 58,
   "metadata": {},
   "outputs": [
    {
     "data": {
      "text/plain": [
       "X1    7.996731e+02\n",
       "X2    6.974494e+02\n",
       "X3    7.797340e+02\n",
       "X4    7.990001e+02\n",
       "X5    7.512023e+02\n",
       "Y     5.848179e+07\n",
       "dtype: float64"
      ]
     },
     "execution_count": 58,
     "metadata": {},
     "output_type": "execute_result"
    }
   ],
   "source": [
    "#Variance\n",
    "data.var()"
   ]
  },
  {
   "cell_type": "code",
   "execution_count": 59,
   "metadata": {},
   "outputs": [
    {
     "name": "stdout",
     "output_type": "stream",
     "text": [
      "Number of outliers:  14\n",
      "Number of rows before removing outliers: 300\n",
      "Number of rows after removing outliers: 286\n"
     ]
    }
   ],
   "source": [
    "# Outliers - Z score\n",
    "\n",
    "z = np.abs(stats.zscore(data))\n",
    "threshold = 3\n",
    "print (\"Number of outliers: \",len(np.where(z > 3)[0]))\n",
    "\n",
    "#Removing outliers\n",
    "print (\"Number of rows before removing outliers:\", len(data))\n",
    "df = data[(z < 3).all(axis=1)]\n",
    "print (\"Number of rows after removing outliers:\", len(df))"
   ]
  },
  {
   "cell_type": "code",
   "execution_count": 60,
   "metadata": {},
   "outputs": [
    {
     "data": {
      "text/html": [
       "<style  type=\"text/css\" >\n",
       "    #T_82cc8d7e_eeac_11e9_9f48_303a645c35f0row0_col0 {\n",
       "            background-color:  #b40426;\n",
       "        }    #T_82cc8d7e_eeac_11e9_9f48_303a645c35f0row0_col1 {\n",
       "            background-color:  #4055c8;\n",
       "        }    #T_82cc8d7e_eeac_11e9_9f48_303a645c35f0row0_col2 {\n",
       "            background-color:  #3b4cc0;\n",
       "        }    #T_82cc8d7e_eeac_11e9_9f48_303a645c35f0row0_col3 {\n",
       "            background-color:  #6282ea;\n",
       "        }    #T_82cc8d7e_eeac_11e9_9f48_303a645c35f0row0_col4 {\n",
       "            background-color:  #4257c9;\n",
       "        }    #T_82cc8d7e_eeac_11e9_9f48_303a645c35f0row0_col5 {\n",
       "            background-color:  #ba162b;\n",
       "        }    #T_82cc8d7e_eeac_11e9_9f48_303a645c35f0row1_col0 {\n",
       "            background-color:  #506bda;\n",
       "        }    #T_82cc8d7e_eeac_11e9_9f48_303a645c35f0row1_col1 {\n",
       "            background-color:  #b40426;\n",
       "        }    #T_82cc8d7e_eeac_11e9_9f48_303a645c35f0row1_col2 {\n",
       "            background-color:  #5572df;\n",
       "        }    #T_82cc8d7e_eeac_11e9_9f48_303a645c35f0row1_col3 {\n",
       "            background-color:  #6485ec;\n",
       "        }    #T_82cc8d7e_eeac_11e9_9f48_303a645c35f0row1_col4 {\n",
       "            background-color:  #516ddb;\n",
       "        }    #T_82cc8d7e_eeac_11e9_9f48_303a645c35f0row1_col5 {\n",
       "            background-color:  #506bda;\n",
       "        }    #T_82cc8d7e_eeac_11e9_9f48_303a645c35f0row2_col0 {\n",
       "            background-color:  #3d50c3;\n",
       "        }    #T_82cc8d7e_eeac_11e9_9f48_303a645c35f0row2_col1 {\n",
       "            background-color:  #4961d2;\n",
       "        }    #T_82cc8d7e_eeac_11e9_9f48_303a645c35f0row2_col2 {\n",
       "            background-color:  #b40426;\n",
       "        }    #T_82cc8d7e_eeac_11e9_9f48_303a645c35f0row2_col3 {\n",
       "            background-color:  #6f92f3;\n",
       "        }    #T_82cc8d7e_eeac_11e9_9f48_303a645c35f0row2_col4 {\n",
       "            background-color:  #6282ea;\n",
       "        }    #T_82cc8d7e_eeac_11e9_9f48_303a645c35f0row2_col5 {\n",
       "            background-color:  #4055c8;\n",
       "        }    #T_82cc8d7e_eeac_11e9_9f48_303a645c35f0row3_col0 {\n",
       "            background-color:  #5977e3;\n",
       "        }    #T_82cc8d7e_eeac_11e9_9f48_303a645c35f0row3_col1 {\n",
       "            background-color:  #4c66d6;\n",
       "        }    #T_82cc8d7e_eeac_11e9_9f48_303a645c35f0row3_col2 {\n",
       "            background-color:  #6384eb;\n",
       "        }    #T_82cc8d7e_eeac_11e9_9f48_303a645c35f0row3_col3 {\n",
       "            background-color:  #b40426;\n",
       "        }    #T_82cc8d7e_eeac_11e9_9f48_303a645c35f0row3_col4 {\n",
       "            background-color:  #3b4cc0;\n",
       "        }    #T_82cc8d7e_eeac_11e9_9f48_303a645c35f0row3_col5 {\n",
       "            background-color:  #5b7ae5;\n",
       "        }    #T_82cc8d7e_eeac_11e9_9f48_303a645c35f0row4_col0 {\n",
       "            background-color:  #3b4cc0;\n",
       "        }    #T_82cc8d7e_eeac_11e9_9f48_303a645c35f0row4_col1 {\n",
       "            background-color:  #3b4cc0;\n",
       "        }    #T_82cc8d7e_eeac_11e9_9f48_303a645c35f0row4_col2 {\n",
       "            background-color:  #5875e1;\n",
       "        }    #T_82cc8d7e_eeac_11e9_9f48_303a645c35f0row4_col3 {\n",
       "            background-color:  #3b4cc0;\n",
       "        }    #T_82cc8d7e_eeac_11e9_9f48_303a645c35f0row4_col4 {\n",
       "            background-color:  #b40426;\n",
       "        }    #T_82cc8d7e_eeac_11e9_9f48_303a645c35f0row4_col5 {\n",
       "            background-color:  #3b4cc0;\n",
       "        }    #T_82cc8d7e_eeac_11e9_9f48_303a645c35f0row5_col0 {\n",
       "            background-color:  #ba162b;\n",
       "        }    #T_82cc8d7e_eeac_11e9_9f48_303a645c35f0row5_col1 {\n",
       "            background-color:  #485fd1;\n",
       "        }    #T_82cc8d7e_eeac_11e9_9f48_303a645c35f0row5_col2 {\n",
       "            background-color:  #455cce;\n",
       "        }    #T_82cc8d7e_eeac_11e9_9f48_303a645c35f0row5_col3 {\n",
       "            background-color:  #6b8df0;\n",
       "        }    #T_82cc8d7e_eeac_11e9_9f48_303a645c35f0row5_col4 {\n",
       "            background-color:  #4a63d3;\n",
       "        }    #T_82cc8d7e_eeac_11e9_9f48_303a645c35f0row5_col5 {\n",
       "            background-color:  #b40426;\n",
       "        }</style>  \n",
       "<table id=\"T_82cc8d7e_eeac_11e9_9f48_303a645c35f0\" > \n",
       "<thead>    <tr> \n",
       "        <th class=\"blank level0\" ></th> \n",
       "        <th class=\"col_heading level0 col0\" >X1</th> \n",
       "        <th class=\"col_heading level0 col1\" >X2</th> \n",
       "        <th class=\"col_heading level0 col2\" >X3</th> \n",
       "        <th class=\"col_heading level0 col3\" >X4</th> \n",
       "        <th class=\"col_heading level0 col4\" >X5</th> \n",
       "        <th class=\"col_heading level0 col5\" >Y</th> \n",
       "    </tr></thead> \n",
       "<tbody>    <tr> \n",
       "        <th id=\"T_82cc8d7e_eeac_11e9_9f48_303a645c35f0level0_row0\" class=\"row_heading level0 row0\" >X1</th> \n",
       "        <td id=\"T_82cc8d7e_eeac_11e9_9f48_303a645c35f0row0_col0\" class=\"data row0 col0\" >1</td> \n",
       "        <td id=\"T_82cc8d7e_eeac_11e9_9f48_303a645c35f0row0_col1\" class=\"data row0 col1\" >0.0421766</td> \n",
       "        <td id=\"T_82cc8d7e_eeac_11e9_9f48_303a645c35f0row0_col2\" class=\"data row0 col2\" >-0.0217284</td> \n",
       "        <td id=\"T_82cc8d7e_eeac_11e9_9f48_303a645c35f0row0_col3\" class=\"data row0 col3\" >0.0716504</td> \n",
       "        <td id=\"T_82cc8d7e_eeac_11e9_9f48_303a645c35f0row0_col4\" class=\"data row0 col4\" >-0.0329095</td> \n",
       "        <td id=\"T_82cc8d7e_eeac_11e9_9f48_303a645c35f0row0_col5\" class=\"data row0 col5\" >0.981423</td> \n",
       "    </tr>    <tr> \n",
       "        <th id=\"T_82cc8d7e_eeac_11e9_9f48_303a645c35f0level0_row1\" class=\"row_heading level0 row1\" >X2</th> \n",
       "        <td id=\"T_82cc8d7e_eeac_11e9_9f48_303a645c35f0row1_col0\" class=\"data row1 col0\" >0.0421766</td> \n",
       "        <td id=\"T_82cc8d7e_eeac_11e9_9f48_303a645c35f0row1_col1\" class=\"data row1 col1\" >1</td> \n",
       "        <td id=\"T_82cc8d7e_eeac_11e9_9f48_303a645c35f0row1_col2\" class=\"data row1 col2\" >0.0688115</td> \n",
       "        <td id=\"T_82cc8d7e_eeac_11e9_9f48_303a645c35f0row1_col3\" class=\"data row1 col3\" >0.0800575</td> \n",
       "        <td id=\"T_82cc8d7e_eeac_11e9_9f48_303a645c35f0row1_col4\" class=\"data row1 col4\" >0.0207398</td> \n",
       "        <td id=\"T_82cc8d7e_eeac_11e9_9f48_303a645c35f0row1_col5\" class=\"data row1 col5\" >0.0663655</td> \n",
       "    </tr>    <tr> \n",
       "        <th id=\"T_82cc8d7e_eeac_11e9_9f48_303a645c35f0level0_row2\" class=\"row_heading level0 row2\" >X3</th> \n",
       "        <td id=\"T_82cc8d7e_eeac_11e9_9f48_303a645c35f0row2_col0\" class=\"data row2 col0\" >-0.0217284</td> \n",
       "        <td id=\"T_82cc8d7e_eeac_11e9_9f48_303a645c35f0row2_col1\" class=\"data row2 col1\" >0.0688115</td> \n",
       "        <td id=\"T_82cc8d7e_eeac_11e9_9f48_303a645c35f0row2_col2\" class=\"data row2 col2\" >1</td> \n",
       "        <td id=\"T_82cc8d7e_eeac_11e9_9f48_303a645c35f0row2_col3\" class=\"data row2 col3\" >0.113788</td> \n",
       "        <td id=\"T_82cc8d7e_eeac_11e9_9f48_303a645c35f0row2_col4\" class=\"data row2 col4\" >0.0741687</td> \n",
       "        <td id=\"T_82cc8d7e_eeac_11e9_9f48_303a645c35f0row2_col5\" class=\"data row2 col5\" >0.0155585</td> \n",
       "    </tr>    <tr> \n",
       "        <th id=\"T_82cc8d7e_eeac_11e9_9f48_303a645c35f0level0_row3\" class=\"row_heading level0 row3\" >X4</th> \n",
       "        <td id=\"T_82cc8d7e_eeac_11e9_9f48_303a645c35f0row3_col0\" class=\"data row3 col0\" >0.0716504</td> \n",
       "        <td id=\"T_82cc8d7e_eeac_11e9_9f48_303a645c35f0row3_col1\" class=\"data row3 col1\" >0.0800575</td> \n",
       "        <td id=\"T_82cc8d7e_eeac_11e9_9f48_303a645c35f0row3_col2\" class=\"data row3 col2\" >0.113788</td> \n",
       "        <td id=\"T_82cc8d7e_eeac_11e9_9f48_303a645c35f0row3_col3\" class=\"data row3 col3\" >1</td> \n",
       "        <td id=\"T_82cc8d7e_eeac_11e9_9f48_303a645c35f0row3_col4\" class=\"data row3 col4\" >-0.0611414</td> \n",
       "        <td id=\"T_82cc8d7e_eeac_11e9_9f48_303a645c35f0row3_col5\" class=\"data row3 col5\" >0.103152</td> \n",
       "    </tr>    <tr> \n",
       "        <th id=\"T_82cc8d7e_eeac_11e9_9f48_303a645c35f0level0_row4\" class=\"row_heading level0 row4\" >X5</th> \n",
       "        <td id=\"T_82cc8d7e_eeac_11e9_9f48_303a645c35f0row4_col0\" class=\"data row4 col0\" >-0.0329095</td> \n",
       "        <td id=\"T_82cc8d7e_eeac_11e9_9f48_303a645c35f0row4_col1\" class=\"data row4 col1\" >0.0207398</td> \n",
       "        <td id=\"T_82cc8d7e_eeac_11e9_9f48_303a645c35f0row4_col2\" class=\"data row4 col2\" >0.0741687</td> \n",
       "        <td id=\"T_82cc8d7e_eeac_11e9_9f48_303a645c35f0row4_col3\" class=\"data row4 col3\" >-0.0611414</td> \n",
       "        <td id=\"T_82cc8d7e_eeac_11e9_9f48_303a645c35f0row4_col4\" class=\"data row4 col4\" >1</td> \n",
       "        <td id=\"T_82cc8d7e_eeac_11e9_9f48_303a645c35f0row4_col5\" class=\"data row4 col5\" >-0.00494055</td> \n",
       "    </tr>    <tr> \n",
       "        <th id=\"T_82cc8d7e_eeac_11e9_9f48_303a645c35f0level0_row5\" class=\"row_heading level0 row5\" >Y</th> \n",
       "        <td id=\"T_82cc8d7e_eeac_11e9_9f48_303a645c35f0row5_col0\" class=\"data row5 col0\" >0.981423</td> \n",
       "        <td id=\"T_82cc8d7e_eeac_11e9_9f48_303a645c35f0row5_col1\" class=\"data row5 col1\" >0.0663655</td> \n",
       "        <td id=\"T_82cc8d7e_eeac_11e9_9f48_303a645c35f0row5_col2\" class=\"data row5 col2\" >0.0155585</td> \n",
       "        <td id=\"T_82cc8d7e_eeac_11e9_9f48_303a645c35f0row5_col3\" class=\"data row5 col3\" >0.103152</td> \n",
       "        <td id=\"T_82cc8d7e_eeac_11e9_9f48_303a645c35f0row5_col4\" class=\"data row5 col4\" >-0.00494055</td> \n",
       "        <td id=\"T_82cc8d7e_eeac_11e9_9f48_303a645c35f0row5_col5\" class=\"data row5 col5\" >1</td> \n",
       "    </tr></tbody> \n",
       "</table> "
      ],
      "text/plain": [
       "<pandas.io.formats.style.Styler at 0x7f79670bea90>"
      ]
     },
     "execution_count": 60,
     "metadata": {},
     "output_type": "execute_result"
    }
   ],
   "source": [
    "corr = df.corr()\n",
    "corr.style.background_gradient(cmap='coolwarm')"
   ]
  },
  {
   "cell_type": "code",
   "execution_count": 61,
   "metadata": {},
   "outputs": [
    {
     "data": {
      "image/png": "[encoded data removed]",
      "text/plain": [
       "<Figure size 432x288 with 1 Axes>"
      ]
     },
     "metadata": {
      "needs_background": "light"
     },
     "output_type": "display_data"
    }
   ],
   "source": [
    "def heatmap(x, y, size):\n",
    "    fig, ax = plt.subplots()\n",
    "    \n",
    "\n",
    "    # Mapping from column names to integer coordinates\n",
    "    x_labels = [v for v in sorted(x.unique())]\n",
    "    y_labels = [v for v in sorted(y.unique())]\n",
    "    x_to_num = {p[1]:p[0] for p in enumerate(x_labels)} \n",
    "    y_to_num = {p[1]:p[0] for p in enumerate(y_labels)} \n",
    "    \n",
    "    \n",
    "\n",
    "    \n",
    "    size_scale = 1000\n",
    "    ax.scatter(\n",
    "        x=x.map(x_to_num), # Use mapping for x\n",
    "        y=y.map(y_to_num), # Use mapping for y\n",
    "        s=size * size_scale, # Vector of square sizes, proportional to size parameter\n",
    "        marker='s' # Use square as scatterplot marker\n",
    "    )\n",
    "    \n",
    "    # Show column labels on the axes\n",
    "    ax.set_xticks([x_to_num[v] for v in x_labels])\n",
    "    ax.set_xticklabels(x_labels, rotation=45, horizontalalignment='right')\n",
    "    ax.set_yticks([y_to_num[v] for v in y_labels])\n",
    "    ax.set_yticklabels(y_labels)\n",
    "    \n",
    "    ax.grid(False, 'major')\n",
    "    ax.grid(True, 'minor')\n",
    "    ax.set_xticks([t + 0.5 for t in ax.get_xticks()], minor=True)\n",
    "    ax.set_yticks([t + 0.5 for t in ax.get_yticks()], minor=True)\n",
    "    ax.set_xlim([-0.5, max([v for v in x_to_num.values()]) + 0.5]) \n",
    "    ax.set_ylim([-0.5, max([v for v in y_to_num.values()]) + 0.5])\n",
    "    \n",
    "\n",
    "\n",
    "corr = data.corr()\n",
    "corr = pd.melt(corr.reset_index(), id_vars='index') # Unpivot the dataframe, so we can get pair of arrays for x and y\n",
    "corr.columns = ['x', 'y', 'value']\n",
    "heatmap(\n",
    "    x=corr['x'],\n",
    "    y=corr['y'],\n",
    "    size=corr['value'].abs()\n",
    ")"
   ]
  },
  {
   "cell_type": "code",
   "execution_count": 62,
   "metadata": {},
   "outputs": [],
   "source": [
    "df.to_csv('data.csv', sep=',')"
   ]
  }
 ],
 "metadata": {
  "kernelspec": {
   "display_name": "Python 3",
   "language": "python",
   "name": "python3"
  },
  "language_info": {
   "codemirror_mode": {
    "name": "ipython",
    "version": 3
   },
   "file_extension": ".py",
   "mimetype": "text/x-python",
   "name": "python",
   "nbconvert_exporter": "python",
   "pygments_lexer": "ipython3",
   "version": "3.5.2"
  }
 },
 "nbformat": 4,
 "nbformat_minor": 2
}
