{
 "cells": [
  {
   "cell_type": "code",
   "execution_count": 37,
   "metadata": {},
   "outputs": [],
   "source": [
    "import math\n",
    "import pandas as pd\n",
    "import numpy as np"
   ]
  },
  {
   "cell_type": "code",
   "execution_count": 38,
   "metadata": {
    "scrolled": true
   },
   "outputs": [
    {
     "name": "stdout",
     "output_type": "stream",
     "text": [
      "Enter mean inter-arrival time of RT messages : 5\n",
      "Enter mean inter-arrival time of nonRT messages : 10\n",
      "Enter mean service time of an RT message : 4\n",
      "Enter mean service time of a nonRT message : 2\n",
      "Enter max iteration (MC = 50 or 20) : 20\n"
     ]
    }
   ],
   "source": [
    "# Taking input from user\n",
    "\n",
    "iat_RT = int(input(\"Enter mean inter-arrival time of RT messages : \"))\n",
    "iat_NRT = int(input(\"Enter mean inter-arrival time of nonRT messages : \"))\n",
    "st_RT =int(input(\"Enter mean service time of an RT message : \"))\n",
    "st_NRT = int(input(\"Enter mean service time of a nonRT message : \"))\n",
    "max_iter = int(input(\"Enter max iteration (MC = 50 or 20) : \"))"
   ]
  },
  {
   "cell_type": "code",
   "execution_count": 39,
   "metadata": {},
   "outputs": [],
   "source": [
    "# Set initial conditions\n",
    "RTCL = 3\n",
    "nonRTCL=5\n",
    "nRT =0\n",
    "nNonRT=0\n",
    "s=2\n",
    "SCL=4\n",
    "\n",
    "MC=0\n",
    "rem_time=0\n",
    "data=[]\n"
   ]
  },
  {
   "cell_type": "code",
   "execution_count": 40,
   "metadata": {},
   "outputs": [
    {
     "name": "stdout",
     "output_type": "stream",
     "text": [
      "    MCL  RTCL  non-RTCL  N(RT)  N(nonRT)   SCL  s  remaining time\n",
      "0     0     3         5      0         0   4.0  2               0\n",
      "1     3     8         5      0         1   7.0  1               1\n",
      "2     5     8        15      0         2   7.0  1               1\n",
      "3     7     8        15      0         1   8.0  2               0\n",
      "4     8    13        15      0         1  12.0  1               0\n",
      "5    12    13        15      0         0  14.0  2               0\n",
      "6    13    18        15      0         1  17.0  1               1\n",
      "7    15    18        25      0         2  17.0  1               1\n",
      "8    17    18        25      0         1  18.0  2               0\n",
      "9    18    23        25      0         1  22.0  1               0\n",
      "10   22    23        25      0         0  24.0  2               0\n"
     ]
    }
   ],
   "source": [
    "row=[round(MC,4),round(RTCL,4),round(nonRTCL,4),nRT,nNonRT,round(SCL,4),s,round(rem_time,4)]\n",
    "data.append(row)\n",
    "while MC <= max_iter:\n",
    "\n",
    "    if SCL<RTCL and SCL<nonRTCL :\n",
    "        MC=SCL\n",
    "        \n",
    "        if nRT!=0:\n",
    "            nRT-=1\n",
    "            s=1\n",
    "            SCL=MC+st_RT\n",
    "            \n",
    "        elif nNonRT!=0:\n",
    "            nNonRT-=1\n",
    "            s=2\n",
    "            \n",
    "            if rem_time!=0:\n",
    "                SCL=MC+rem_time\n",
    "                rem_time=0\n",
    "            else:\n",
    "                SCL=MC+st_NRT\n",
    "        else:\n",
    "            s=0\n",
    "            # Since system is in idle state, there is no SCL. \n",
    "            # SCL is being set to a large value for computation purpose.\n",
    "            # Ideally, SCL will contain no value as no event is being served. \n",
    "            #SCL is being set to Nan in final output table\n",
    "            SCL=max_iter+1000 \n",
    "        \n",
    "    elif RTCL == SCL:\n",
    "        MC=RTCL\n",
    "        RTCL=MC+iat_RT\n",
    "        s=1\n",
    "        SCL=MC+st_RT\n",
    "        \n",
    "        \n",
    "    elif RTCL < SCL and RTCL <= nonRTCL:\n",
    "        MC=RTCL\n",
    "        RTCL=MC+iat_RT        \n",
    "        \n",
    "        if s==1:\n",
    "            nRT+=1\n",
    "            \n",
    "        elif s==0:\n",
    "            SCL=MC+st_RT\n",
    "            s=1\n",
    "            \n",
    "        elif s==2:\n",
    "            nNonRT+=1\n",
    "            rem_time=SCL-MC\n",
    "            s=1\n",
    "            SCL=MC+st_RT\n",
    "     \n",
    "    elif nonRTCL <= SCL or nonRTCL < RTCL:\n",
    "        MC=nonRTCL\n",
    "        nonRTCL=MC+iat_NRT\n",
    "        \n",
    "        if s==0:     \n",
    "            SCL=MC+st_NRT\n",
    "            s=2  \n",
    "            \n",
    "        if s==1 or s==2:\n",
    "            nNonRT+=1    \n",
    "            \n",
    "    row=[round(MC,4),round(RTCL,4),round(nonRTCL,4),nRT,nNonRT,round(SCL,4),s,round(rem_time,4)]\n",
    "    data.append(row)\n",
    "    \n",
    "df = pd.DataFrame(data, columns=[\"MCL\",\"RTCL\",\"non-RTCL\",\"N(RT)\",\"N(nonRT)\",\"SCL\",\"s\",\"remaining time\"])\n",
    "\n",
    "df.loc[df['SCL'] == max_iter+1000, 'SCL'] = np.nan\n",
    "print(df.to_string())"
   ]
  },
  {
   "cell_type": "code",
   "execution_count": 41,
   "metadata": {},
   "outputs": [],
   "source": [
    "df.to_csv(\"Output_task_2.1.csv\", sep='\\t')"
   ]
  },
  {
   "cell_type": "code",
   "execution_count": null,
   "metadata": {},
   "outputs": [],
   "source": []
  }
 ],
 "metadata": {
  "kernelspec": {
   "display_name": "Python 3",
   "language": "python",
   "name": "python3"
  },
  "language_info": {
   "codemirror_mode": {
    "name": "ipython",
    "version": 3
   },
   "file_extension": ".py",
   "mimetype": "text/x-python",
   "name": "python",
   "nbconvert_exporter": "python",
   "pygments_lexer": "ipython3",
   "version": "3.5.2"
  }
 },
 "nbformat": 4,
 "nbformat_minor": 2
}
