{
 "cells": [
  {
   "cell_type": "code",
   "execution_count": 2,
   "metadata": {
    "scrolled": true
   },
   "outputs": [
    {
     "name": "stdout",
     "output_type": "stream",
     "text": [
      "Enter mean inter-arrival time of RT messages : 10\n",
      "Enter mean inter-arrival time of nonRT messages : 5\n",
      "Enter mean service time of an RT message : 2\n",
      "mean service time of a nonRT message : 4\n"
     ]
    }
   ],
   "source": [
    "# Taking input from user\n",
    "\n",
    "iat_RT = input(\"Enter mean inter-arrival time of RT messages : \")\n",
    "iat_NRT = input(\"Enter mean inter-arrival time of nonRT messages : \")\n",
    "st_RT = input(\"Enter mean service time of an RT message : \")\n",
    "st_NRT = input(\"Enter mean service time of a nonRT message : \")"
   ]
  },
  {
   "cell_type": "code",
   "execution_count": 3,
   "metadata": {},
   "outputs": [],
   "source": [
    "# Set initial conditions\n",
    "RTCL = 3\n",
    "nonRTCL=5\n",
    "nRT =0\n",
    "nNonRT=0\n",
    "s=2\n",
    "SCL=4\n",
    "\n",
    "MC=0\n",
    "rem_time=0"
   ]
  },
  {
   "cell_type": "code",
   "execution_count": null,
   "metadata": {},
   "outputs": [],
   "source": [
    "while MC <= 50:\n",
    "    "
   ]
  }
 ],
 "metadata": {
  "kernelspec": {
   "display_name": "Python 3",
   "language": "python",
   "name": "python3"
  },
  "language_info": {
   "codemirror_mode": {
    "name": "ipython",
    "version": 3
   },
   "file_extension": ".py",
   "mimetype": "text/x-python",
   "name": "python",
   "nbconvert_exporter": "python",
   "pygments_lexer": "ipython3",
   "version": "3.5.2"
  }
 },
 "nbformat": 4,
 "nbformat_minor": 2
}
