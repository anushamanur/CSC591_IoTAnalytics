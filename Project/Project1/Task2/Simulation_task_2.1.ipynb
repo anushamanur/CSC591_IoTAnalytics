{
 "cells": [
  {
   "cell_type": "code",
   "execution_count": 51,
   "metadata": {
    "scrolled": true
   },
   "outputs": [
    {
     "name": "stdout",
     "output_type": "stream",
     "text": [
      "Enter mean inter-arrival time of RT messages : 10\n",
      "Enter mean inter-arrival time of nonRT messages : 5\n",
      "Enter mean service time of an RT message : 2\n",
      "Enter mean service time of a nonRT message : 4\n"
     ]
    }
   ],
   "source": [
    "# Taking input from user\n",
    "\n",
    "iat_RT = int(input(\"Enter mean inter-arrival time of RT messages : \"))\n",
    "iat_NRT = int(input(\"Enter mean inter-arrival time of nonRT messages : \"))\n",
    "st_RT =int(input(\"Enter mean service time of an RT message : \"))\n",
    "st_NRT = int(input(\"Enter mean service time of a nonRT message : \"))"
   ]
  },
  {
   "cell_type": "code",
   "execution_count": 52,
   "metadata": {},
   "outputs": [],
   "source": [
    "# Set initial conditions\n",
    "RTCL = 3\n",
    "nonRTCL=5\n",
    "nRT =0\n",
    "nNonRT=0\n",
    "s=2\n",
    "SCL=4\n",
    "\n",
    "MC=0\n",
    "rem_time=0"
   ]
  },
  {
   "cell_type": "code",
   "execution_count": 53,
   "metadata": {},
   "outputs": [
    {
     "name": "stdout",
     "output_type": "stream",
     "text": [
      "MCL\tRTCL\tnon-RTCL\tN(RT)\tN(nonRT) SCL\ts\tremaining time\n",
      "\n",
      "0 \t 3 \t 5 \t\t 0 \t 0 \t 4 \t 2 \t 0 \n",
      "\n",
      "3 \t 13 \t 5 \t\t 0 \t 1 \t 5 \t 1 \t 1 \n",
      "\n",
      "5 \t 13 \t 10 \t\t 0 \t 2 \t 5 \t 1 \t 1 \n",
      "\n",
      "5 \t 13 \t 10 \t\t 0 \t 1 \t 6 \t 2 \t 0 \n",
      "\n",
      "6 \t 13 \t 10 \t\t 0 \t 0 \t 10 \t 2 \t 0 \n",
      "\n",
      "10 \t 13 \t 15 \t\t 0 \t 1 \t 10 \t 2 \t 0 \n",
      "\n",
      "10 \t 13 \t 15 \t\t 0 \t 0 \t 14 \t 2 \t 0 \n",
      "\n",
      "13 \t 23 \t 15 \t\t 0 \t 1 \t 15 \t 1 \t 1 \n",
      "\n",
      "15 \t 23 \t 20 \t\t 0 \t 2 \t 15 \t 1 \t 1 \n",
      "\n",
      "15 \t 23 \t 20 \t\t 0 \t 1 \t 16 \t 2 \t 0 \n",
      "\n",
      "16 \t 23 \t 20 \t\t 0 \t 0 \t 20 \t 2 \t 0 \n",
      "\n",
      "20 \t 23 \t 25 \t\t 0 \t 1 \t 20 \t 2 \t 0 \n",
      "\n",
      "20 \t 23 \t 25 \t\t 0 \t 0 \t 24 \t 2 \t 0 \n",
      "\n",
      "23 \t 33 \t 25 \t\t 0 \t 1 \t 25 \t 1 \t 1 \n",
      "\n"
     ]
    }
   ],
   "source": [
    "print (\"MCL\\tRTCL\\tnon-RTCL\\tN(RT)\\tN(nonRT) SCL\\ts\\tremaining time\\n\")\n",
    "print (MC, \"\\t\" , RTCL, \"\\t\", nonRTCL, \"\\t\\t\", nRT, \"\\t\", nNonRT,\"\\t\",SCL,\"\\t\",s,\"\\t\",rem_time,\"\\n\")\n",
    "while MC <= 20:\n",
    "    if SCL<RTCL and SCL<nonRTCL :\n",
    "        MC=SCL\n",
    "        \n",
    "        if nRT!=0:\n",
    "            nRT-=1\n",
    "            s=1\n",
    "            SCL=MC+st_RT\n",
    "            \n",
    "        elif nNonRT!=0:\n",
    "            nNonRT-=1\n",
    "            s=2\n",
    "            \n",
    "            if rem_time!=0:\n",
    "                SCL=MC+rem_time\n",
    "                rem_time=0\n",
    "            else:\n",
    "                SCL=MC+st_NRT\n",
    "        \n",
    "        \n",
    "    elif RTCL == SCL:\n",
    "        MC=RTCL\n",
    "        RTCL=MC+iat_RT\n",
    "        s=1\n",
    "        SCL=MC+st_RT\n",
    "        \n",
    "        \n",
    "    elif RTCL < SCL and RTCL <= nonRTCL:\n",
    "        MC=RTCL\n",
    "        RTCL=MC+iat_RT        \n",
    "        \n",
    "        if s==1:\n",
    "            nRT+=1\n",
    "            \n",
    "        elif s==0:\n",
    "            SCL=MC+st_RT\n",
    "            s=1\n",
    "            \n",
    "        elif s==2:\n",
    "            nNonRT+=1\n",
    "            rem_time=SCL-MC\n",
    "            s=1\n",
    "            SCL=MC+st_RT\n",
    "     \n",
    "    elif nonRTCL <= SCL or nonRTCL < RTCL:\n",
    "        MC=nonRTCL\n",
    "        nonRTCL=MC+iat_NRT\n",
    "        \n",
    "        if s==0:\n",
    "            SCL=MC+st_NRT\n",
    "            s=2  \n",
    "            \n",
    "        if s==1 or s==2:\n",
    "            nNonRT+=1    \n",
    "    print (MC, \"\\t\" , RTCL, \"\\t\", nonRTCL, \"\\t\\t\", nRT, \"\\t\", nNonRT,\"\\t\", SCL,\"\\t\",s,\"\\t\",rem_time,\"\\n\")"
   ]
  },
  {
   "cell_type": "code",
   "execution_count": null,
   "metadata": {},
   "outputs": [],
   "source": []
  },
  {
   "cell_type": "code",
   "execution_count": null,
   "metadata": {},
   "outputs": [],
   "source": []
  }
 ],
 "metadata": {
  "kernelspec": {
   "display_name": "Python 3",
   "language": "python",
   "name": "python3"
  },
  "language_info": {
   "codemirror_mode": {
    "name": "ipython",
    "version": 3
   },
   "file_extension": ".py",
   "mimetype": "text/x-python",
   "name": "python",
   "nbconvert_exporter": "python",
   "pygments_lexer": "ipython3",
   "version": "3.5.2"
  }
 },
 "nbformat": 4,
 "nbformat_minor": 2
}
