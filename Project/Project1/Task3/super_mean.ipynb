{
 "cells": [
  {
   "cell_type": "code",
   "execution_count": 1,
   "metadata": {},
   "outputs": [],
   "source": [
    "import math\n",
    "from collections import deque\n",
    "import pandas as pd\n",
    "import numpy as np\n",
    "import random"
   ]
  },
  {
   "cell_type": "code",
   "execution_count": 2,
   "metadata": {},
   "outputs": [],
   "source": [
    "#To store super mean\n",
    "RT_mean=[]\n",
    "NRT_mean=[]\n",
    "RT_perc=[]\n",
    "NRT_perc=[]"
   ]
  },
  {
   "cell_type": "code",
   "execution_count": 3,
   "metadata": {},
   "outputs": [],
   "source": [
    "for i in range(10,45,5):\n",
    "    filename =str(i)+\".csv\"\n",
    "    df=pd.read_csv(filename)\n",
    "    del df['Unnamed: 0']\n",
    "    RT_mean.append(np.mean(df['meanRT']))\n",
    "    NRT_mean.append(np.mean(df['MeanNRT']))\n",
    "    RT_perc.append(np.mean(df['percRT']))\n",
    "    NRT_perc.append(np.mean(df['percNRT']))\n"
   ]
  },
  {
   "cell_type": "code",
   "execution_count": 4,
   "metadata": {},
   "outputs": [],
   "source": [
    "res = pd.DataFrame(list(zip(RT_mean,NRT_mean,RT_perc,NRT_perc)),\n",
    "                      columns=[\"meanRT\",\"MeanNRT\",\"percRT\",\"percNRT\"])\n",
    "res.to_csv(\"result.csv\", sep=',')"
   ]
  }
 ],
 "metadata": {
  "kernelspec": {
   "display_name": "Python 3",
   "language": "python",
   "name": "python3"
  },
  "language_info": {
   "codemirror_mode": {
    "name": "ipython",
    "version": 3
   },
   "file_extension": ".py",
   "mimetype": "text/x-python",
   "name": "python",
   "nbconvert_exporter": "python",
   "pygments_lexer": "ipython3",
   "version": "3.5.2"
  }
 },
 "nbformat": 4,
 "nbformat_minor": 2
}
