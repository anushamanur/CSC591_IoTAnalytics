{
 "cells": [
  {
   "cell_type": "code",
   "execution_count": 204,
   "metadata": {},
   "outputs": [],
   "source": [
    "import math\n",
    "from collections import deque\n",
    "import pandas as pd\n",
    "import numpy as np\n",
    "import random\n"
   ]
  },
  {
   "cell_type": "code",
   "execution_count": 206,
   "metadata": {},
   "outputs": [
    {
     "name": "stdout",
     "output_type": "stream",
     "text": [
      "Enter mean inter-arrival time of RT messages : 10\n",
      "Enter mean inter-arrival time of nonRT messages : 5\n",
      "Enter mean service time of an RT message : 2\n",
      "Enter mean service time of a nonRT message : 4\n"
     ]
    }
   ],
   "source": [
    "##### Taking input from user\n",
    "\n",
    "iat_RT_mean = int(input(\"Enter mean inter-arrival time of RT messages : \"))\n",
    "iat_NRT_mean = int(input(\"Enter mean inter-arrival time of nonRT messages : \"))\n",
    "st_RT_mean =int(input(\"Enter mean service time of an RT message : \"))\n",
    "st_NRT_mean = int(input(\"Enter mean service time of a nonRT message : \"))\n",
    "#num_batch = int(input(\"Enter number of batches : \"))\n",
    "#batch_size = int(input(\"Enter batch size : \"))"
   ]
  },
  {
   "cell_type": "code",
   "execution_count": 226,
   "metadata": {},
   "outputs": [],
   "source": [
    "RT_Q = deque() \n",
    "NRT_Q = deque()  \n",
    "RT=[]\n",
    "NRT=[2]\n",
    "random.seed(7)"
   ]
  },
  {
   "cell_type": "code",
   "execution_count": 227,
   "metadata": {},
   "outputs": [],
   "source": [
    "# Set initial conditions\n",
    "\n",
    "RT_Q.appendleft(3)\n",
    "NRT_Q.appendleft(5)\n",
    "s=2\n",
    "SCL=(4,2)\n",
    "rem_time=0\n",
    "data=[]\n",
    "MC=0\n",
    "i,j=0,0\n",
    "resa=[]\n",
    "resb=[]\n",
    "respA=[]\n",
    "respB=[]\n",
    "meanRT=[]\n",
    "meanNRT=[]\n",
    "percA=[]\n",
    "percB=[]\n",
    "ciA=[]\n",
    "ciB=[]"
   ]
  },
  {
   "cell_type": "code",
   "execution_count": 228,
   "metadata": {},
   "outputs": [],
   "source": [
    "def CI(arr):\n",
    "    x_bar = np.mean(arr) # mean of vector\n",
    "    s = np.std(arr) # std of vector\n",
    "    n = len(arr) # number of obs\n",
    "    z = 1.96 # for a 95% CI\n",
    "\n",
    "    lower = x_bar - (z * (s/math.sqrt(n)))\n",
    "    upper = x_bar + (z * (s/math.sqrt(n)))\n",
    "    return (round(lower,4),round(upper,4))"
   ]
  },
  {
   "cell_type": "code",
   "execution_count": 229,
   "metadata": {},
   "outputs": [],
   "source": [
    "def return_time(mean):\n",
    "    r=random.random()\n",
    "    time= -(mean)*math.log(r) \n",
    "    return round(time,4)"
   ]
  },
  {
   "cell_type": "code",
   "execution_count": 230,
   "metadata": {},
   "outputs": [
    {
     "name": "stdout",
     "output_type": "stream",
     "text": [
      "deque([14.2753]) deque([5])\n",
      "deque([14.2753]) deque([7.1467, 5])\n",
      "deque([14.2753]) deque([7.1467, 5])\n",
      "deque([14.2753]) deque([18.1252, 7.1467, 5])\n",
      "deque([14.2753]) deque([18.1252, 7.1467])\n",
      "deque([14.2753]) deque([18.1252])\n",
      "deque([42.748599999999996]) deque([18.1252])\n",
      "deque([42.748599999999996]) deque([18.1252])\n",
      "deque([42.748599999999996]) deque([18.1252])\n",
      "deque([42.748599999999996]) deque([34.5429])\n",
      "deque([42.748599999999996]) deque([34.5429])\n",
      "deque([42.748599999999996]) deque([47.849500000000006])\n"
     ]
    }
   ],
   "source": [
    "row=[round(MC,4),SCL,s,round(rem_time,4)]\n",
    "data.append(row)\n",
    "\n",
    "for m in range(1):\n",
    "    for b in range(12):\n",
    "        \n",
    "        if SCL[0]<RT_Q[0] and SCL[0]<NRT_Q[0] :  \n",
    "            \n",
    "            if SCL[1]==1:\n",
    "                resa.append(SCL[0])\n",
    "                \n",
    "            elif SCL[1]==2:\n",
    "                resb.append(SCL[0])\n",
    "            \n",
    "                                \n",
    "            if RT_Q[-1]<=SCL[0]:\n",
    "                MC=SCL[0]   \n",
    "                arr=RT_Q.pop()\n",
    "                RT.append(arr)\n",
    "                s=1\n",
    "                st_RT=return_time(st_RT_mean)\n",
    "                SCL=(MC+st_RT,1)\n",
    "                \n",
    "            elif rem_time!=0:\n",
    "                MC=SCL[0]\n",
    "                SCL=(MC+rem_time,2)\n",
    "                rem_time=0\n",
    "                s=2\n",
    "                    \n",
    "            elif NRT_Q[-1]<=SCL[0]:\n",
    "                MC=SCL[0]    \n",
    "                arr=NRT_Q.pop()\n",
    "                NRT.append(arr)\n",
    "                \n",
    "                st_NRT=return_time(st_NRT_mean)\n",
    "                SCL=(MC+st_NRT,2)\n",
    "                \n",
    "                s=2 \n",
    "            else:          \n",
    "                MC=SCL[0]              \n",
    "                s=0\n",
    "                SCL=(100000000,0)\n",
    "\n",
    "        elif RT_Q[0] == SCL[0]: \n",
    "            \n",
    "            if SCL[1]==1:\n",
    "                resa.append(SCL[0])\n",
    "                \n",
    "            elif SCL[1]==2:\n",
    "                resb.append(SCL[0])\n",
    "            \n",
    "            \n",
    "            MC=RT_Q.pop()\n",
    "            RT.append(MC)\n",
    "            \n",
    "            iat_RT=return_time(iat_RT_mean)  \n",
    "            RT_Q.appendleft(MC+iat_RT)\n",
    "            \n",
    "            s=1\n",
    "            st_RT=return_time(st_RT_mean)\n",
    "            SCL=(MC+st_RT,1)\n",
    "\n",
    "\n",
    "        elif RT_Q[0] < SCL[0] and RT_Q[0] <= NRT_Q[0]:                  \n",
    "                \n",
    "            if s==0:\n",
    "                MC=RT_Q.pop()\n",
    "                RT.append(MC)\n",
    "                \n",
    "                iat_RT=return_time(iat_RT_mean)  \n",
    "                RT_Q.appendleft(MC+iat_RT)\n",
    "                \n",
    "                st_RT=return_time(st_RT_mean)\n",
    "                SCL=(MC+st_RT, 1)\n",
    "                s=1\n",
    "                \n",
    "\n",
    "            elif s==2:\n",
    "                MC=RT_Q.pop()\n",
    "                RT.append(MC)\n",
    "                \n",
    "                iat_RT=return_time(iat_RT_mean)  \n",
    "                RT_Q.appendleft(MC+iat_RT)\n",
    "                \n",
    "                rem_time=SCL[0]-MC\n",
    "                s=1\n",
    "                \n",
    "                st_RT=return_time(st_RT_mean)\n",
    "                SCL=(MC+st_RT,1)\n",
    "                \n",
    "            elif s==1:\n",
    "                MC=RT_Q[-1]\n",
    "                \n",
    "                iat_RT=return_time(iat_RT_mean)  \n",
    "                RT_Q.appendleft(MC+iat_RT)\n",
    "\n",
    "        elif  NRT_Q[0] <= SCL[0] and  NRT_Q[0] <  RT_Q[0]:   \n",
    "            \n",
    "            if NRT_Q[0] == SCL[0] :\n",
    "                if SCL[1]==1:\n",
    "                    resa.append(SCL[0])\n",
    "                \n",
    "                elif SCL[1]==2:\n",
    "                    resb.append(SCL[0])\n",
    "            \n",
    "        \n",
    "            if s==0:\n",
    "                MC=NRT_Q.pop()    \n",
    "                NRT.append(MC)\n",
    "                \n",
    "                iat_NRT=return_time(iat_NRT_mean)  \n",
    "                NRT_Q.appendleft(MC+iat_NRT)\n",
    "                \n",
    "                st_NRT=return_time(st_NRT_mean)\n",
    "                SCL=(MC+st_NRT,2)\n",
    "                s=2  \n",
    "            else:\n",
    "                MC=NRT_Q[-1]\n",
    "                \n",
    "                iat_NRT=return_time(iat_NRT_mean)  \n",
    "                NRT_Q.appendleft(MC+iat_NRT)\n",
    "                \n",
    "  \n",
    "    \n",
    "        row=[round(MC,4),SCL,s,round(rem_time,4)]\n",
    "        data.append(row)\n",
    "        print (RT_Q,NRT_Q)\n",
    "    #print (resa,resb)    \n",
    "    resa=list(set(resa))\n",
    "    a=np.array(RT)\n",
    "    b=np.array(NRT)\n",
    "    lenRT=len(resa)\n",
    "    lenNRT=len(resb)\n",
    "    \n",
    "    respA=(resa-a[:lenRT])\n",
    "    respB=(resb-b[:lenNRT])\n",
    "    \n",
    "    meanRT.append(np.mean(respA))\n",
    "    meanNRT.append(np.mean(respB))\n",
    "    \n",
    "    ciA.append(CI(respA))\n",
    "    ciB.append(CI(respB))    \n",
    "\n",
    "\n",
    "    percA.append(np.percentile(respA, 95)) \n",
    "    percB.append(np.percentile(respB, 95)) \n",
    "    \n",
    "    del RT[:lenRT]\n",
    "    del NRT[:lenNRT]\n",
    "    resa=[]\n",
    "    resb=[]\n",
    "df = pd.DataFrame(data, columns=[\"MCL\",\"SCL\",\"s\",\"remaining time\"])\n",
    "\n",
    "df.loc[df['SCL'] == 100000000, 'SCL'] = np.nan\n"
   ]
  },
  {
   "cell_type": "code",
   "execution_count": 225,
   "metadata": {},
   "outputs": [
    {
     "name": "stdout",
     "output_type": "stream",
     "text": [
      "        MCL                      SCL  s  remaining time\n",
      "0    0.0000                   (4, 2)  2          0.0000\n",
      "1    3.0000              (6.7829, 1)  1          1.0000\n",
      "2    5.0000              (6.7829, 1)  1          1.0000\n",
      "3    6.7829              (7.7829, 2)  2          0.0000\n",
      "4    5.0000              (7.7829, 2)  2          0.0000\n",
      "5    7.7829             (10.2783, 2)  2          0.0000\n",
      "6   10.2783             (14.3022, 2)  2          0.0000\n",
      "7   14.2753             (15.6321, 1)  1          0.0269\n",
      "8   15.6321  (15.658999999999999, 2)  2          0.0000\n",
      "9   15.6590           (100000000, 0)  0          0.0000\n",
      "10  18.1252  (21.467299999999998, 2)  2          0.0000\n",
      "11  21.4673           (100000000, 0)  0          0.0000\n",
      "12  34.5429  (44.143100000000004, 2)  2          0.0000\n",
      "13  42.7486  (43.128899999999994, 1)  1          1.3945\n",
      "14  43.1289             (44.5234, 2)  2          0.0000\n",
      "15  44.5234           (100000000, 0)  0          0.0000\n",
      "16  47.8495  (53.847500000000004, 2)  2          0.0000\n",
      "17  51.3166   (51.42399999999999, 1)  1          2.5309\n",
      "18  51.4240             (53.9549, 2)  2          0.0000\n",
      "19  53.9549           (100000000, 0)  0          0.0000\n",
      "20  55.9778              (57.827, 1)  1          0.0000\n",
      "21  57.8270           (100000000, 0)  0          0.0000\n",
      "22  58.2949              (70.561, 2)  2          0.0000\n",
      "23  58.4151              (70.561, 2)  2          0.0000\n",
      "24  58.4151              (70.561, 2)  2          0.0000\n"
     ]
    }
   ],
   "source": [
    "print (df)"
   ]
  },
  {
   "cell_type": "code",
   "execution_count": 218,
   "metadata": {},
   "outputs": [
    {
     "ename": "AssertionError",
     "evalue": "7 columns passed, passed data had 2 columns",
     "output_type": "error",
     "traceback": [
      "\u001b[0;31m---------------------------------------------------------------------------\u001b[0m",
      "\u001b[0;31mAssertionError\u001b[0m                            Traceback (most recent call last)",
      "\u001b[0;32m<ipython-input-218-757f0c004ed3>\u001b[0m in \u001b[0;36m<module>\u001b[0;34m\u001b[0m\n\u001b[0;32m----> 1\u001b[0;31m \u001b[0mdf_res\u001b[0m \u001b[0;34m=\u001b[0m \u001b[0mpd\u001b[0m\u001b[0;34m.\u001b[0m\u001b[0mDataFrame\u001b[0m\u001b[0;34m(\u001b[0m\u001b[0;34m[\u001b[0m\u001b[0mrespA\u001b[0m\u001b[0;34m,\u001b[0m\u001b[0mrespB\u001b[0m\u001b[0;34m,\u001b[0m\u001b[0mmeanRT\u001b[0m\u001b[0;34m,\u001b[0m\u001b[0mmeanNRT\u001b[0m\u001b[0;34m,\u001b[0m\u001b[0mpercA\u001b[0m\u001b[0;34m,\u001b[0m\u001b[0mpercB\u001b[0m\u001b[0;34m,\u001b[0m\u001b[0mciA\u001b[0m\u001b[0;34m,\u001b[0m\u001b[0mciB\u001b[0m\u001b[0;34m]\u001b[0m\u001b[0;34m,\u001b[0m \u001b[0mcolumns\u001b[0m\u001b[0;34m=\u001b[0m\u001b[0;34m[\u001b[0m\u001b[0;34m\"Resp_RT\"\u001b[0m\u001b[0;34m,\u001b[0m\u001b[0;34m\"Resp_NRT\"\u001b[0m\u001b[0;34m\"MeanRT\"\u001b[0m\u001b[0;34m,\u001b[0m\u001b[0;34m\"MeanNRT\"\u001b[0m\u001b[0;34m,\u001b[0m\u001b[0;34m\"percRT\"\u001b[0m\u001b[0;34m,\u001b[0m\u001b[0;34m\"percNRT\"\u001b[0m\u001b[0;34m,\u001b[0m\u001b[0;34m\"CI_RT\"\u001b[0m\u001b[0;34m,\u001b[0m\u001b[0;34m\"CI_NRT\"\u001b[0m\u001b[0;34m]\u001b[0m\u001b[0;34m)\u001b[0m\u001b[0;34m\u001b[0m\u001b[0m\n\u001b[0m",
      "\u001b[0;32m~/.local/lib/python3.5/site-packages/pandas/core/frame.py\u001b[0m in \u001b[0;36m__init__\u001b[0;34m(self, data, index, columns, dtype, copy)\u001b[0m\n\u001b[1;32m    385\u001b[0m                     \u001b[0;32mif\u001b[0m \u001b[0mis_named_tuple\u001b[0m\u001b[0;34m(\u001b[0m\u001b[0mdata\u001b[0m\u001b[0;34m[\u001b[0m\u001b[0;36m0\u001b[0m\u001b[0;34m]\u001b[0m\u001b[0;34m)\u001b[0m \u001b[0;32mand\u001b[0m \u001b[0mcolumns\u001b[0m \u001b[0;32mis\u001b[0m \u001b[0;32mNone\u001b[0m\u001b[0;34m:\u001b[0m\u001b[0;34m\u001b[0m\u001b[0m\n\u001b[1;32m    386\u001b[0m                         \u001b[0mcolumns\u001b[0m \u001b[0;34m=\u001b[0m \u001b[0mdata\u001b[0m\u001b[0;34m[\u001b[0m\u001b[0;36m0\u001b[0m\u001b[0;34m]\u001b[0m\u001b[0;34m.\u001b[0m\u001b[0m_fields\u001b[0m\u001b[0;34m\u001b[0m\u001b[0m\n\u001b[0;32m--> 387\u001b[0;31m                     \u001b[0marrays\u001b[0m\u001b[0;34m,\u001b[0m \u001b[0mcolumns\u001b[0m \u001b[0;34m=\u001b[0m \u001b[0m_to_arrays\u001b[0m\u001b[0;34m(\u001b[0m\u001b[0mdata\u001b[0m\u001b[0;34m,\u001b[0m \u001b[0mcolumns\u001b[0m\u001b[0;34m,\u001b[0m \u001b[0mdtype\u001b[0m\u001b[0;34m=\u001b[0m\u001b[0mdtype\u001b[0m\u001b[0;34m)\u001b[0m\u001b[0;34m\u001b[0m\u001b[0m\n\u001b[0m\u001b[1;32m    388\u001b[0m                     \u001b[0mcolumns\u001b[0m \u001b[0;34m=\u001b[0m \u001b[0m_ensure_index\u001b[0m\u001b[0;34m(\u001b[0m\u001b[0mcolumns\u001b[0m\u001b[0;34m)\u001b[0m\u001b[0;34m\u001b[0m\u001b[0m\n\u001b[1;32m    389\u001b[0m \u001b[0;34m\u001b[0m\u001b[0m\n",
      "\u001b[0;32m~/.local/lib/python3.5/site-packages/pandas/core/frame.py\u001b[0m in \u001b[0;36m_to_arrays\u001b[0;34m(data, columns, coerce_float, dtype)\u001b[0m\n\u001b[1;32m   7495\u001b[0m         \u001b[0mdata\u001b[0m \u001b[0;34m=\u001b[0m \u001b[0mlmap\u001b[0m\u001b[0;34m(\u001b[0m\u001b[0mtuple\u001b[0m\u001b[0;34m,\u001b[0m \u001b[0mdata\u001b[0m\u001b[0;34m)\u001b[0m\u001b[0;34m\u001b[0m\u001b[0m\n\u001b[1;32m   7496\u001b[0m         return _list_to_arrays(data, columns, coerce_float=coerce_float,\n\u001b[0;32m-> 7497\u001b[0;31m                                dtype=dtype)\n\u001b[0m\u001b[1;32m   7498\u001b[0m \u001b[0;34m\u001b[0m\u001b[0m\n\u001b[1;32m   7499\u001b[0m \u001b[0;34m\u001b[0m\u001b[0m\n",
      "\u001b[0;32m~/.local/lib/python3.5/site-packages/pandas/core/frame.py\u001b[0m in \u001b[0;36m_list_to_arrays\u001b[0;34m(data, columns, coerce_float, dtype)\u001b[0m\n\u001b[1;32m   7552\u001b[0m         \u001b[0mcontent\u001b[0m \u001b[0;34m=\u001b[0m \u001b[0mlist\u001b[0m\u001b[0;34m(\u001b[0m\u001b[0mlib\u001b[0m\u001b[0;34m.\u001b[0m\u001b[0mto_object_array\u001b[0m\u001b[0;34m(\u001b[0m\u001b[0mdata\u001b[0m\u001b[0;34m)\u001b[0m\u001b[0;34m.\u001b[0m\u001b[0mT\u001b[0m\u001b[0;34m)\u001b[0m\u001b[0;34m\u001b[0m\u001b[0m\n\u001b[1;32m   7553\u001b[0m     return _convert_object_array(content, columns, dtype=dtype,\n\u001b[0;32m-> 7554\u001b[0;31m                                  coerce_float=coerce_float)\n\u001b[0m\u001b[1;32m   7555\u001b[0m \u001b[0;34m\u001b[0m\u001b[0m\n\u001b[1;32m   7556\u001b[0m \u001b[0;34m\u001b[0m\u001b[0m\n",
      "\u001b[0;32m~/.local/lib/python3.5/site-packages/pandas/core/frame.py\u001b[0m in \u001b[0;36m_convert_object_array\u001b[0;34m(content, columns, coerce_float, dtype)\u001b[0m\n\u001b[1;32m   7610\u001b[0m             raise AssertionError('{col:d} columns passed, passed data had '\n\u001b[1;32m   7611\u001b[0m                                  '{con} columns'.format(col=len(columns),\n\u001b[0;32m-> 7612\u001b[0;31m                                                         con=len(content)))\n\u001b[0m\u001b[1;32m   7613\u001b[0m \u001b[0;34m\u001b[0m\u001b[0m\n\u001b[1;32m   7614\u001b[0m     \u001b[0;31m# provide soft conversion of object dtypes\u001b[0m\u001b[0;34m\u001b[0m\u001b[0;34m\u001b[0m\u001b[0m\n",
      "\u001b[0;31mAssertionError\u001b[0m: 7 columns passed, passed data had 2 columns"
     ]
    }
   ],
   "source": [
    "df_res = pd.DataFrame([respA,respB,meanRT,meanNRT,percA,percB,ciA,ciB], columns=[\"Resp_RT\",\"Resp_NRT\"\"MeanRT\",\"MeanNRT\",\"percRT\",\"percNRT\",\"CI_RT\",\"CI_NRT\"])"
   ]
  },
  {
   "cell_type": "code",
   "execution_count": 190,
   "metadata": {},
   "outputs": [
    {
     "name": "stdout",
     "output_type": "stream",
     "text": [
      "    MCL             SCL  s  remaining time\n",
      "0     0          (4, 2)  2               0\n",
      "1     3          (5, 1)  1               1\n",
      "2     5          (5, 1)  1               1\n",
      "3     5          (6, 2)  2               0\n",
      "4     6         (10, 2)  2               0\n",
      "5     8         (10, 1)  1               2\n",
      "6    10         (12, 2)  2               0\n",
      "7    12  (100000000, 0)  0               0\n",
      "8    13         (15, 1)  1               0\n",
      "9    15         (15, 1)  1               0\n",
      "10   15         (19, 2)  2               0\n",
      "11   18         (20, 1)  1               1\n",
      "12   20         (21, 2)  2               0\n",
      "13   21  (100000000, 0)  0               0\n",
      "14   23         (25, 1)  1               0\n",
      "15   25         (25, 1)  1               0\n",
      "16   25         (29, 2)  2               0\n",
      "17   28         (30, 1)  1               1\n",
      "18   30         (31, 2)  2               0\n",
      "19   31  (100000000, 0)  0               0\n",
      "20   33         (35, 1)  1               0\n",
      "21   35         (35, 1)  1               0\n",
      "22   35         (39, 2)  2               0\n",
      "23   38         (40, 1)  1               1\n",
      "24   40         (41, 2)  2               0\n"
     ]
    }
   ],
   "source": [
    "print (df)"
   ]
  },
  {
   "cell_type": "code",
   "execution_count": null,
   "metadata": {},
   "outputs": [],
   "source": []
  },
  {
   "cell_type": "code",
   "execution_count": null,
   "metadata": {},
   "outputs": [],
   "source": []
  },
  {
   "cell_type": "code",
   "execution_count": null,
   "metadata": {},
   "outputs": [],
   "source": []
  }
 ],
 "metadata": {
  "kernelspec": {
   "display_name": "Python 3",
   "language": "python",
   "name": "python3"
  },
  "language_info": {
   "codemirror_mode": {
    "name": "ipython",
    "version": 3
   },
   "file_extension": ".py",
   "mimetype": "text/x-python",
   "name": "python",
   "nbconvert_exporter": "python",
   "pygments_lexer": "ipython3",
   "version": "3.5.2"
  }
 },
 "nbformat": 4,
 "nbformat_minor": 2
}
