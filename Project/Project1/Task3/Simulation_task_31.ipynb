{
 "cells": [
  {
   "cell_type": "code",
   "execution_count": 1,
   "metadata": {},
   "outputs": [],
   "source": [
    "import math\n",
    "from collections import deque\n",
    "import pandas as pd\n",
    "import numpy as np"
   ]
  },
  {
   "cell_type": "code",
   "execution_count": 2,
   "metadata": {
    "scrolled": true
   },
   "outputs": [
    {
     "name": "stdout",
     "output_type": "stream",
     "text": [
      "Enter mean inter-arrival time of RT messages : 5\n",
      "Enter mean inter-arrival time of nonRT messages : 10\n",
      "Enter mean service time of an RT message : 4\n",
      "Enter mean service time of a nonRT message : 2\n"
     ]
    }
   ],
   "source": [
    "# Taking input from user\n",
    "\n",
    "iat_RT = int(input(\"Enter mean inter-arrival time of RT messages : \"))\n",
    "iat_NRT = int(input(\"Enter mean inter-arrival time of nonRT messages : \"))\n",
    "st_RT =int(input(\"Enter mean service time of an RT message : \"))\n",
    "st_NRT = int(input(\"Enter mean service time of a nonRT message : \"))\n",
    "#num_batch = int(input(\"Enter number of batches : \"))\n",
    "#batch_size = int(input(\"Enter batch size : \"))"
   ]
  },
  {
   "cell_type": "code",
   "execution_count": 22,
   "metadata": {},
   "outputs": [],
   "source": [
    "RT_Q = deque() \n",
    "NRT_Q = deque()  \n",
    "RT=[]\n",
    "NRT=[]"
   ]
  },
  {
   "cell_type": "code",
   "execution_count": 23,
   "metadata": {},
   "outputs": [
    {
     "name": "stdout",
     "output_type": "stream",
     "text": [
      "deque([3])\n"
     ]
    }
   ],
   "source": [
    "# Set initial conditions\n",
    "\n",
    "RT_Q.appendleft(3)\n",
    "NRT_Q.appendleft(5)\n",
    "s=2\n",
    "SCL=(4,2,0)\n",
    "rem_time=0\n",
    "rem_time=0\n",
    "data=[]\n",
    "MC=0\n",
    "print (RT_Q)"
   ]
  },
  {
   "cell_type": "code",
   "execution_count": 24,
   "metadata": {},
   "outputs": [],
   "source": [
    "row=[round(MC,4),round(SCL[0],4),s,round(rem_time,4)]\n",
    "data.append(row)\n",
    "\n",
    "for m in range(2):\n",
    "    for b in range(4):\n",
    "        if SCL[0]<RT_Q[-1] and SCL[0]<NRT_Q[-1] :           \n",
    "\n",
    "            if len(RT_Q)\n",
    "                \n",
    "            MC=SCL[0]\n",
    "            s=0\n",
    "            SCL=(-1,0,0)\n",
    "\n",
    "        elif RT_Q[-1] == SCL[0]:\n",
    "            \n",
    "            if SCL[1]==1:\n",
    "                ind=RT.index(SCL[2])\n",
    "                RT[ind]=SCL[0]\n",
    "                \n",
    "            elif SCL[1]==2:\n",
    "                ind=NRT.index(SCL[2])\n",
    "                NRT[ind]=SCL[0]\n",
    "            \n",
    "            MC=RT_Q.pop()\n",
    "            RT_Q.appendleft(MC+iat_RT)\n",
    "            s=1\n",
    "            SCL=(MC+st_RT,1,MC)\n",
    "\n",
    "\n",
    "        elif RT_Q[-1] < SCL[0] and RT_Q[-1] <= NRT_Q[-1]:         \n",
    "            \n",
    "                \n",
    "            if s==0:\n",
    "                MC=RT_Q.pop()\n",
    "                RT.append(MC)\n",
    "                RT_Q.appendleft(MC+iat_RT)\n",
    "                SCL=(MC+st_RT, 1, MC)\n",
    "                s=1\n",
    "                \n",
    "\n",
    "            elif s==2:\n",
    "                MC=RT_Q.pop()\n",
    "                RT.append(MC)\n",
    "                RT_Q.appendleft(MC+iat_RT)\n",
    "                NRT_Q.append(\"X\")\n",
    "                rem_time=SCL[0]-MC\n",
    "                s=1\n",
    "                SCL=(MC+st_RT,1,MC)\n",
    "\n",
    "        elif  NRT_Q[-1] <= SCL[0] or  NRT_Q[-1] <  RT_Q[-1]:     \n",
    "            \n",
    "            if NRT_Q[-1] == SCL[0] :\n",
    "                if SCL[1]==1:\n",
    "                    ind=RT.index(SCL[2])\n",
    "                    RT[ind]=SCL[0]\n",
    "                \n",
    "                elif SCL[1]==2:\n",
    "                    ind=NRT.index(SCL[2])\n",
    "                    NRT[ind]=SCL[0]\n",
    "\n",
    "            if s==0:\n",
    "                if rem_time!=0:\n",
    "                    MC=NRT_Q.pop()\n",
    "                    SCL=(MC+rem_time,2,MC)\n",
    "                    rem_time=0\n",
    "                    s=2\n",
    "                    \n",
    "                else:\n",
    "                    MC=NRT_Q.pop()    \n",
    "                    NRT.append(MC)\n",
    "                    NRT_Q.appendleft(MC+iat_NRT)\n",
    "                    SCL=(MC+st_NRT,2,MC)\n",
    "                    s=2  \n",
    "            else:\n",
    "                MC=NRT_Q[-1]\n",
    "                NRT_Q.appendleft(MC+iat_NRT)\n",
    "                \n",
    "  \n",
    "\n",
    "        row=[round(MC,4),round(SCL[0],4),s,round(rem_time,4)]\n",
    "        data.append(row)\n",
    "    \n",
    "df = pd.DataFrame(data, columns=[\"MCL\",\"SCL\",\"s\",\"remaining time\"])\n",
    "\n",
    "df.loc[df['SCL'] == -1, 'SCL'] = np.nan"
   ]
  },
  {
   "cell_type": "code",
   "execution_count": 25,
   "metadata": {},
   "outputs": [
    {
     "name": "stdout",
     "output_type": "stream",
     "text": [
      "   MCL  SCL  s  remaining time\n",
      "0    0  4.0  2               0\n",
      "1    3  7.0  1               1\n",
      "2    5  7.0  1               1\n",
      "3    5  7.0  1               1\n",
      "4    5  7.0  1               1\n",
      "5    5  7.0  1               1\n",
      "6    5  7.0  1               1\n",
      "7    5  7.0  1               1\n",
      "8    5  7.0  1               1\n"
     ]
    }
   ],
   "source": [
    "print (df)"
   ]
  },
  {
   "cell_type": "code",
   "execution_count": null,
   "metadata": {},
   "outputs": [],
   "source": []
  }
 ],
 "metadata": {
  "kernelspec": {
   "display_name": "Python 3",
   "language": "python",
   "name": "python3"
  },
  "language_info": {
   "codemirror_mode": {
    "name": "ipython",
    "version": 3
   },
   "file_extension": ".py",
   "mimetype": "text/x-python",
   "name": "python",
   "nbconvert_exporter": "python",
   "pygments_lexer": "ipython3",
   "version": "3.5.2"
  }
 },
 "nbformat": 4,
 "nbformat_minor": 2
}
