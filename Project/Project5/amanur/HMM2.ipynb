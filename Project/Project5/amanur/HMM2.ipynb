{
 "cells": [
  {
   "cell_type": "code",
   "execution_count": 2,
   "metadata": {},
   "outputs": [],
   "source": [
    "import numpy as np\n",
    "import pandas as pd\n",
    "import random"
   ]
  },
  {
   "cell_type": "code",
   "execution_count": 3,
   "metadata": {},
   "outputs": [],
   "source": [
    "random.seed(200256758)"
   ]
  },
  {
   "cell_type": "code",
   "execution_count": 4,
   "metadata": {},
   "outputs": [
    {
     "data": {
      "text/plain": [
       "array([[0.19547493, 0.13757054, 0.29319991, 0.37375462],\n",
       "       [0.04133207, 0.33883134, 0.29073149, 0.3291051 ],\n",
       "       [0.27688667, 0.26228274, 0.25067505, 0.21015553],\n",
       "       [0.23890892, 0.24938778, 0.22122013, 0.29048318]])"
      ]
     },
     "execution_count": 4,
     "metadata": {},
     "output_type": "execute_result"
    }
   ],
   "source": [
    "P = np.zeros(shape=(4,4))\n",
    "for i in range(4):\n",
    "    for j in range(4):\n",
    "        rnum=random.random()\n",
    "        P[i][j]=rnum\n",
    "    P[i]=P[i]/sum(P[i])\n",
    "P"
   ]
  },
  {
   "cell_type": "code",
   "execution_count": 5,
   "metadata": {},
   "outputs": [
    {
     "data": {
      "text/plain": [
       "array([[0.14493102, 0.28696169, 0.56810729],\n",
       "       [0.0595772 , 0.5480175 , 0.39240531],\n",
       "       [0.17631078, 0.42892038, 0.39476884],\n",
       "       [0.33184461, 0.30245334, 0.36570205]])"
      ]
     },
     "execution_count": 5,
     "metadata": {},
     "output_type": "execute_result"
    }
   ],
   "source": [
    "B = np.zeros(shape=(4,3))\n",
    "for i in range(4):\n",
    "    for j in range(3):\n",
    "        rnum=random.random()\n",
    "        B[i][j]=rnum\n",
    "    B[i]=B[i]/sum(B[i])\n",
    "B"
   ]
  },
  {
   "cell_type": "code",
   "execution_count": 6,
   "metadata": {},
   "outputs": [],
   "source": [
    "pi=np.array([1,0,0,0])\n",
    "seq=np.array([1,2,3,3,1,2,3,3,1,2,3,3])\n",
    "seq=seq-1\n",
    "states=('1','2','3','4')\n",
    "observations =('1','2','3')"
   ]
  },
  {
   "cell_type": "code",
   "execution_count": 18,
   "metadata": {},
   "outputs": [],
   "source": [
    "def init(obs_seq):\n",
    "    T = len(obs_seq)\n",
    "    N = P.shape[0]\n",
    "    return (T,N)"
   ]
  },
  {
   "cell_type": "code",
   "execution_count": 19,
   "metadata": {},
   "outputs": [],
   "source": [
    "def initialize_fwd(obs_seq):\n",
    "    T,N=init(obs_seq)\n",
    "    alpha = np.zeros((T, N))\n",
    "    alpha[0] = pi*B[:,obs_seq[0]]\n",
    "    return (T, alpha)"
   ]
  },
  {
   "cell_type": "code",
   "execution_count": 20,
   "metadata": {},
   "outputs": [],
   "source": [
    "def initialize_bwd(obs_seq):\n",
    "    T,N=init(obs_seq)\n",
    "    beta = np.zeros((N,T))\n",
    "    beta[:,-1:] = 1\n",
    "    return (T,N,beta)"
   ]
  },
  {
   "cell_type": "code",
   "execution_count": 25,
   "metadata": {},
   "outputs": [],
   "source": [
    "def forward(obs_seq):        \n",
    "        T,alpha=initialize_fwd(obs_seq)\n",
    "        for t in range(1, T,1):\n",
    "            alpha[t] = alpha[t-1].dot(P) * B[:, obs_seq[t]]\n",
    "        return alpha"
   ]
  },
  {
   "cell_type": "code",
   "execution_count": 37,
   "metadata": {},
   "outputs": [],
   "source": [
    "def backward(obs_seq):\n",
    "        T,N, beta=initialize_bwd(obs_seq)        \n",
    "        for t in range(T-2,-1,-1):\n",
    "            for n in range(N):\n",
    "                beta[n,t] = np.sum(beta[:,t+1] * P[n,:] * B[:, obs_seq[t+1]])\n",
    "\n",
    "        return beta"
   ]
  },
  {
   "cell_type": "code",
   "execution_count": 38,
   "metadata": {},
   "outputs": [
    {
     "data": {
      "text/plain": [
       "array([[1.54184678e-06, 0.00000000e+00, 0.00000000e+00, 0.00000000e+00],\n",
       "       [2.34819886e-07, 2.90747343e-07, 5.39921202e-07, 4.76358352e-07],\n",
       "       [4.24252763e-07, 3.32621788e-07, 3.92471415e-07, 3.92500818e-07],\n",
       "       [4.44790990e-07, 3.50127014e-07, 3.46338816e-07, 4.00589964e-07],\n",
       "       [2.19518219e-07, 1.27963791e-07, 3.82924583e-07, 8.11440191e-07],\n",
       "       [2.62234305e-07, 4.94673417e-07, 4.33725025e-07, 3.51214038e-07],\n",
       "       [3.65690708e-07, 3.49967664e-07, 4.11175702e-07, 4.15012709e-07],\n",
       "       [4.43826139e-07, 3.58014050e-07, 3.44264845e-07, 3.95741751e-07],\n",
       "       [2.18314735e-07, 1.28306200e-07, 3.83211301e-07, 8.12014549e-07],\n",
       "       [2.61053457e-07, 4.95227804e-07, 4.34254700e-07, 3.51310823e-07],\n",
       "       [3.66636534e-07, 3.60789178e-07, 4.04417796e-07, 4.10003276e-07],\n",
       "       [3.95338900e-07, 3.59310752e-07, 3.83013172e-07, 4.04183960e-07]])"
      ]
     },
     "execution_count": 38,
     "metadata": {},
     "output_type": "execute_result"
    }
   ],
   "source": [
    "alpha = forward(seq)\n",
    "beta  = backward(seq)\n",
    "prob=np.multiply(alpha,beta.T)\n",
    "prob"
   ]
  },
  {
   "cell_type": "code",
   "execution_count": 39,
   "metadata": {},
   "outputs": [
    {
     "data": {
      "text/plain": [
       "array([1.54184678e-06, 1.54184678e-06, 1.54184678e-06, 1.54184678e-06,\n",
       "       1.54184678e-06, 1.54184678e-06, 1.54184678e-06, 1.54184678e-06,\n",
       "       1.54184678e-06, 1.54184678e-06, 1.54184678e-06, 1.54184678e-06])"
      ]
     },
     "execution_count": 39,
     "metadata": {},
     "output_type": "execute_result"
    }
   ],
   "source": [
    "np.sum(prob, axis=1)"
   ]
  }
 ],
 "metadata": {
  "kernelspec": {
   "display_name": "Python 3",
   "language": "python",
   "name": "python3"
  },
  "language_info": {
   "codemirror_mode": {
    "name": "ipython",
    "version": 3
   },
   "file_extension": ".py",
   "mimetype": "text/x-python",
   "name": "python",
   "nbconvert_exporter": "python",
   "pygments_lexer": "ipython3",
   "version": "3.5.2"
  }
 },
 "nbformat": 4,
 "nbformat_minor": 2
}
