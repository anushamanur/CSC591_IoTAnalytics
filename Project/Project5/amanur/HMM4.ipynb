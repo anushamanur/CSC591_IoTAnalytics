{
 "cells": [
  {
   "cell_type": "code",
   "execution_count": 59,
   "metadata": {},
   "outputs": [],
   "source": [
    "import numpy as np\n",
    "import pandas as pd\n",
    "import random\n",
    "from hmmlearn import hmm\n",
    "import matplotlib.pyplot as plt"
   ]
  },
  {
   "cell_type": "code",
   "execution_count": 2,
   "metadata": {},
   "outputs": [],
   "source": [
    "random.seed(200256758)"
   ]
  },
  {
   "cell_type": "code",
   "execution_count": 3,
   "metadata": {},
   "outputs": [
    {
     "data": {
      "text/plain": [
       "array([[0.19547493, 0.13757054, 0.29319991, 0.37375462],\n",
       "       [0.04133207, 0.33883134, 0.29073149, 0.3291051 ],\n",
       "       [0.27688667, 0.26228274, 0.25067505, 0.21015553],\n",
       "       [0.23890892, 0.24938778, 0.22122013, 0.29048318]])"
      ]
     },
     "execution_count": 3,
     "metadata": {},
     "output_type": "execute_result"
    }
   ],
   "source": [
    "P = np.zeros(shape=(4,4))\n",
    "for i in range(4):\n",
    "    for j in range(4):\n",
    "        rnum=random.random()\n",
    "        P[i][j]=rnum\n",
    "    P[i]=P[i]/sum(P[i])\n",
    "P"
   ]
  },
  {
   "cell_type": "code",
   "execution_count": 4,
   "metadata": {},
   "outputs": [
    {
     "data": {
      "text/plain": [
       "array([[0.14493102, 0.28696169, 0.56810729],\n",
       "       [0.0595772 , 0.5480175 , 0.39240531],\n",
       "       [0.17631078, 0.42892038, 0.39476884],\n",
       "       [0.33184461, 0.30245334, 0.36570205]])"
      ]
     },
     "execution_count": 4,
     "metadata": {},
     "output_type": "execute_result"
    }
   ],
   "source": [
    "B = np.zeros(shape=(4,3))\n",
    "for i in range(4):\n",
    "    for j in range(3):\n",
    "        rnum=random.random()\n",
    "        B[i][j]=rnum\n",
    "    B[i]=B[i]/sum(B[i])\n",
    "B"
   ]
  },
  {
   "cell_type": "code",
   "execution_count": 5,
   "metadata": {},
   "outputs": [],
   "source": [
    "Q = np.zeros(1000, dtype = int)\n",
    "O = np.zeros(1000, dtype = int)    "
   ]
  },
  {
   "cell_type": "code",
   "execution_count": 6,
   "metadata": {},
   "outputs": [
    {
     "name": "stdout",
     "output_type": "stream",
     "text": [
      "[1 3 3 1 3 3 3 4 1 4] [2 3 3 3 2 3 2 1 3 3]\n"
     ]
    }
   ],
   "source": [
    "for i in range(1000):\n",
    "    if i==0:\n",
    "        Q[i]=1\n",
    "    else:\n",
    "        rnum=random.random()\n",
    "        #print (\"Q \", rnum)\n",
    "        if rnum<=P[Q[i-1]-1][0]: Q[i]=1\n",
    "        elif rnum<=(P[Q[i-1]-1][0] + P[Q[i-1]-1][1]): Q[i]=2\n",
    "        elif rnum<=(P[Q[i-1]-1][0] + P[Q[i-1]-1][1] + P[Q[i-1]-1][2]): Q[i]=3\n",
    "        else: Q[i]=4\n",
    "            \n",
    "            \n",
    "    rnum=random.random()\n",
    "    #print (\"O \", rnum)\n",
    "    if rnum<=B[Q[i]-1][0]: O[i]=1\n",
    "    elif rnum<=(B[Q[i]-1][0] + B[Q[i]-1][1]): O[i]=2\n",
    "    else: O[i]=3\n",
    "            \n",
    "print (Q[:10],O[:10])                    "
   ]
  },
  {
   "cell_type": "code",
   "execution_count": 8,
   "metadata": {},
   "outputs": [],
   "source": [
    "O=O-1"
   ]
  },
  {
   "cell_type": "code",
   "execution_count": 9,
   "metadata": {},
   "outputs": [],
   "source": [
    "X = np.atleast_2d([O]).T"
   ]
  },
  {
   "cell_type": "code",
   "execution_count": 56,
   "metadata": {
    "scrolled": true
   },
   "outputs": [
    {
     "data": {
      "text/plain": [
       "MultinomialHMM(algorithm='viterbi', init_params='ste', n_components=4,\n",
       "               n_iter=20, params='ste',\n",
       "               random_state=RandomState(MT19937) at 0x7F219CADACA8,\n",
       "               startprob_prior=1.0, tol=0.01, transmat_prior=1.0,\n",
       "               verbose=False)"
      ]
     },
     "execution_count": 56,
     "metadata": {},
     "output_type": "execute_result"
    }
   ],
   "source": [
    "model = hmm.MultinomialHMM(n_components=4, n_iter=20, random_state=200256758)\n",
    "model.fit(X)"
   ]
  },
  {
   "cell_type": "code",
   "execution_count": 57,
   "metadata": {},
   "outputs": [
    {
     "name": "stdout",
     "output_type": "stream",
     "text": [
      "Initial probabilities\n",
      "[4.58257420e-07 1.01291760e-03 9.98986624e-01 8.24953121e-11]\n",
      "\n",
      "Transition probabilities\n",
      "[[0.24522132 0.23822122 0.20823566 0.3083218 ]\n",
      " [0.22733326 0.24203643 0.20820936 0.32242095]\n",
      " [0.21247813 0.23312974 0.17369796 0.38069417]\n",
      " [0.24745146 0.24479664 0.24272784 0.26502406]]\n",
      "\n",
      "Event matrix\n",
      "[[0.27094995 0.34412936 0.38492069]\n",
      " [0.18360031 0.50603481 0.31036488]\n",
      " [0.21048538 0.70731501 0.08219961]\n",
      " [0.12041965 0.22558437 0.65399598]]\n"
     ]
    }
   ],
   "source": [
    "print (\"Initial probabilities\")\n",
    "print (model.startprob_ )\n",
    "print ()\n",
    "print (\"Transition probabilities\")\n",
    "print (model.transmat_ )\n",
    "print()\n",
    "print (\"Event matrix\")\n",
    "print (model.emissionprob_)"
   ]
  },
  {
   "cell_type": "code",
   "execution_count": 78,
   "metadata": {},
   "outputs": [
    {
     "name": "stdout",
     "output_type": "stream",
     "text": [
      "Event matrix - model\n"
     ]
    },
    {
     "data": {
      "image/png": "[encoded data removed]",
      "text/plain": [
       "<Figure size 432x288 with 2 Axes>"
      ]
     },
     "metadata": {
      "needs_background": "light"
     },
     "output_type": "display_data"
    },
    {
     "name": "stdout",
     "output_type": "stream",
     "text": [
      "B\n"
     ]
    },
    {
     "data": {
      "image/png": "[encoded data removed]",
      "text/plain": [
       "<Figure size 432x288 with 2 Axes>"
      ]
     },
     "metadata": {
      "needs_background": "light"
     },
     "output_type": "display_data"
    }
   ],
   "source": [
    "print (\"Event matrix - model\")\n",
    "plt.imshow(model.emissionprob_)\n",
    "plt.colorbar()\n",
    "plt.savefig(\"event.png\")\n",
    "plt.show()\n",
    "\n",
    "\n",
    "print (\"B\")\n",
    "plt.imshow(B)\n",
    "plt.colorbar()\n",
    "plt.savefig(\"B.png\")\n",
    "plt.show()\n"
   ]
  },
  {
   "cell_type": "code",
   "execution_count": 76,
   "metadata": {},
   "outputs": [
    {
     "name": "stdout",
     "output_type": "stream",
     "text": [
      "Transition probabilities - model\n"
     ]
    },
    {
     "data": {
      "image/png": "[encoded data removed]",
      "text/plain": [
       "<Figure size 432x288 with 2 Axes>"
      ]
     },
     "metadata": {
      "needs_background": "light"
     },
     "output_type": "display_data"
    },
    {
     "name": "stdout",
     "output_type": "stream",
     "text": [
      "P\n"
     ]
    },
    {
     "data": {
      "image/png": "[encoded data removed]",
      "text/plain": [
       "<Figure size 432x288 with 2 Axes>"
      ]
     },
     "metadata": {
      "needs_background": "light"
     },
     "output_type": "display_data"
    }
   ],
   "source": [
    "print (\"Transition probabilities - model\")\n",
    "plt.imshow(model.transmat_)\n",
    "plt.colorbar()\n",
    "plt.savefig(\"transmat.png\")\n",
    "plt.show()\n",
    "\n",
    "\n",
    "print (\"P\")\n",
    "plt.imshow(P)\n",
    "plt.colorbar()\n",
    "plt.savefig(\"P.png\")\n",
    "plt.show()\n"
   ]
  },
  {
   "cell_type": "code",
   "execution_count": 77,
   "metadata": {},
   "outputs": [
    {
     "data": {
      "image/png": "[encoded data removed]",
      "text/plain": [
       "<Figure size 432x288 with 1 Axes>"
      ]
     },
     "metadata": {
      "needs_background": "light"
     },
     "output_type": "display_data"
    }
   ],
   "source": [
    "t=list(range(1,5))\n",
    "plt.plot(t, pi, 'r*', t,model.startprob_ ,'b^')\n",
    "plt.savefig(\"pi.png\")\n",
    "plt.show()\n"
   ]
  },
  {
   "cell_type": "code",
   "execution_count": null,
   "metadata": {},
   "outputs": [],
   "source": []
  }
 ],
 "metadata": {
  "kernelspec": {
   "display_name": "Python 3",
   "language": "python",
   "name": "python3"
  },
  "language_info": {
   "codemirror_mode": {
    "name": "ipython",
    "version": 3
   },
   "file_extension": ".py",
   "mimetype": "text/x-python",
   "name": "python",
   "nbconvert_exporter": "python",
   "pygments_lexer": "ipython3",
   "version": "3.5.2"
  }
 },
 "nbformat": 4,
 "nbformat_minor": 2
}
