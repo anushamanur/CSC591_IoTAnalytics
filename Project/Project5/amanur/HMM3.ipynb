{
 "cells": [
  {
   "cell_type": "code",
   "execution_count": 38,
   "metadata": {},
   "outputs": [],
   "source": [
    "import numpy as np\n",
    "import pandas as pd\n",
    "import random\n",
    "from hmmlearn import hmm\n"
   ]
  },
  {
   "cell_type": "code",
   "execution_count": 127,
   "metadata": {},
   "outputs": [],
   "source": [
    "random.seed(200256758)"
   ]
  },
  {
   "cell_type": "code",
   "execution_count": 137,
   "metadata": {},
   "outputs": [
    {
     "data": {
      "text/plain": [
       "array([[0.15006412, 0.21089082, 0.33533053, 0.30371453],\n",
       "       [0.36806576, 0.06741943, 0.3217626 , 0.24275222],\n",
       "       [0.15534356, 0.2861196 , 0.29057436, 0.26796247],\n",
       "       [0.21117287, 0.58982526, 0.14828762, 0.05071426]])"
      ]
     },
     "execution_count": 137,
     "metadata": {},
     "output_type": "execute_result"
    }
   ],
   "source": [
    "P = np.zeros(shape=(4,4))\n",
    "for i in range(4):\n",
    "    for j in range(4):\n",
    "        rnum=random.random()\n",
    "        P[i][j]=rnum\n",
    "    P[i]=P[i]/sum(P[i])\n",
    "P"
   ]
  },
  {
   "cell_type": "code",
   "execution_count": 138,
   "metadata": {},
   "outputs": [
    {
     "data": {
      "text/plain": [
       "array([[0.29661724, 0.34664082, 0.35674193],\n",
       "       [0.46777237, 0.30896662, 0.223261  ],\n",
       "       [0.33736357, 0.18655961, 0.47607682],\n",
       "       [0.36383816, 0.24059621, 0.39556562]])"
      ]
     },
     "execution_count": 138,
     "metadata": {},
     "output_type": "execute_result"
    }
   ],
   "source": [
    "B = np.zeros(shape=(4,3))\n",
    "for i in range(4):\n",
    "    for j in range(3):\n",
    "        rnum=random.random()\n",
    "        B[i][j]=rnum\n",
    "    B[i]=B[i]/sum(B[i])\n",
    "B"
   ]
  },
  {
   "cell_type": "code",
   "execution_count": 139,
   "metadata": {},
   "outputs": [],
   "source": [
    "pi=np.array([1,0,0,0])\n",
    "seq=np.array([1,2,3,3,1,2,3,3,1,2,3,3])\n",
    "seq=seq-1\n",
    "states=('1','2','3','4')\n",
    "observations =('1','2','3')"
   ]
  },
  {
   "cell_type": "code",
   "execution_count": 140,
   "metadata": {},
   "outputs": [],
   "source": [
    "def init(obs_seq):\n",
    "    T = len(obs_seq)\n",
    "    N = P.shape[0] \n",
    "    delta = np.zeros((T, N))        \n",
    "    psi = np.zeros((T, N))  \n",
    "    return (T,N,psi,delta)\n"
   ]
  },
  {
   "cell_type": "code",
   "execution_count": 141,
   "metadata": {},
   "outputs": [],
   "source": [
    "def backtrack(T,delta, psi):\n",
    "     # backtrack\n",
    "        states = np.zeros(T, dtype=np.int32)\n",
    "        states[T-1] = np.argmax(delta[T-1])\n",
    "        for t in range(T-2, -1, -1):\n",
    "            states[t] = psi[t+1, states[t+1]]\n",
    "        return states"
   ]
  },
  {
   "cell_type": "code",
   "execution_count": 142,
   "metadata": {},
   "outputs": [],
   "source": [
    "def viterbi(obs_seq):\n",
    "        T,N,psi,delta = init(obs_seq)\n",
    "        delta[0] = pi*B[:,obs_seq[0]]\n",
    "        \n",
    "        for t in range(1, T):\n",
    "            for i in range(N):\n",
    "                delta[t,i] = np.max(delta[t-1]*P[:,i]) * B[i, obs_seq[t]]\n",
    "                psi[t,i] = np.argmax(delta[t-1]*P[:,i])\n",
    "\n",
    "        res=backtrack(T, delta,psi)\n",
    "        return res\n",
    "       \n"
   ]
  },
  {
   "cell_type": "code",
   "execution_count": 143,
   "metadata": {},
   "outputs": [],
   "source": [
    "obs_states=viterbi(seq)+1"
   ]
  },
  {
   "cell_type": "code",
   "execution_count": 144,
   "metadata": {},
   "outputs": [
    {
     "data": {
      "text/plain": [
       "array([1, 2, 3, 4, 2, 1, 3, 4, 2, 1, 3, 3], dtype=int32)"
      ]
     },
     "execution_count": 144,
     "metadata": {},
     "output_type": "execute_result"
    }
   ],
   "source": [
    "obs_states"
   ]
  }
 ],
 "metadata": {
  "kernelspec": {
   "display_name": "Python 3",
   "language": "python",
   "name": "python3"
  },
  "language_info": {
   "codemirror_mode": {
    "name": "ipython",
    "version": 3
   },
   "file_extension": ".py",
   "mimetype": "text/x-python",
   "name": "python",
   "nbconvert_exporter": "python",
   "pygments_lexer": "ipython3",
   "version": "3.5.2"
  }
 },
 "nbformat": 4,
 "nbformat_minor": 2
}
