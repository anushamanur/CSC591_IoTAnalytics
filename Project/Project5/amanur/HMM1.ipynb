{
 "cells": [
  {
   "cell_type": "code",
   "execution_count": 5,
   "metadata": {},
   "outputs": [],
   "source": [
    "import numpy as np\n",
    "import pandas as pd\n",
    "import random\n",
    "from hmmlearn import hmm\n",
    "import matplotlib.pyplot as plt"
   ]
  },
  {
   "cell_type": "code",
   "execution_count": 6,
   "metadata": {},
   "outputs": [],
   "source": [
    "random.seed(200256758)"
   ]
  },
  {
   "cell_type": "code",
   "execution_count": 7,
   "metadata": {},
   "outputs": [
    {
     "data": {
      "text/plain": [
       "array([[0.19547493, 0.13757054, 0.29319991, 0.37375462],\n",
       "       [0.04133207, 0.33883134, 0.29073149, 0.3291051 ],\n",
       "       [0.27688667, 0.26228274, 0.25067505, 0.21015553],\n",
       "       [0.23890892, 0.24938778, 0.22122013, 0.29048318]])"
      ]
     },
     "execution_count": 7,
     "metadata": {},
     "output_type": "execute_result"
    }
   ],
   "source": [
    "P = np.zeros(shape=(4,4))\n",
    "for i in range(4):\n",
    "    for j in range(4):\n",
    "        rnum=random.random()\n",
    "        P[i][j]=rnum\n",
    "    P[i]=P[i]/sum(P[i])\n",
    "P"
   ]
  },
  {
   "cell_type": "code",
   "execution_count": 8,
   "metadata": {},
   "outputs": [
    {
     "data": {
      "text/plain": [
       "array([[0.14493102, 0.28696169, 0.56810729],\n",
       "       [0.0595772 , 0.5480175 , 0.39240531],\n",
       "       [0.17631078, 0.42892038, 0.39476884],\n",
       "       [0.33184461, 0.30245334, 0.36570205]])"
      ]
     },
     "execution_count": 8,
     "metadata": {},
     "output_type": "execute_result"
    }
   ],
   "source": [
    "B = np.zeros(shape=(4,3))\n",
    "for i in range(4):\n",
    "    for j in range(3):\n",
    "        rnum=random.random()\n",
    "        B[i][j]=rnum\n",
    "    B[i]=B[i]/sum(B[i])\n",
    "B"
   ]
  },
  {
   "cell_type": "code",
   "execution_count": 9,
   "metadata": {},
   "outputs": [],
   "source": [
    "Q = np.zeros(1000, dtype = int)\n",
    "O = np.zeros(1000, dtype = int)    "
   ]
  },
  {
   "cell_type": "code",
   "execution_count": 10,
   "metadata": {},
   "outputs": [
    {
     "name": "stdout",
     "output_type": "stream",
     "text": [
      "[1 3 3 1 3 3 3 4 1 4] [2 3 3 3 2 3 2 1 3 3]\n"
     ]
    }
   ],
   "source": [
    "for i in range(1000):\n",
    "    if i==0:\n",
    "        Q[i]=1\n",
    "    else:\n",
    "        rnum=random.random()\n",
    "        #print (\"Q \", rnum)\n",
    "        if rnum<=P[Q[i-1]-1][0]: Q[i]=1\n",
    "        elif rnum<=(P[Q[i-1]-1][0] + P[Q[i-1]-1][1]): Q[i]=2\n",
    "        elif rnum<=(P[Q[i-1]-1][0] + P[Q[i-1]-1][1] + P[Q[i-1]-1][2]): Q[i]=3\n",
    "        else: Q[i]=4\n",
    "            \n",
    "            \n",
    "    rnum=random.random()\n",
    "    #print (\"O \", rnum)\n",
    "    if rnum<=B[Q[i]-1][0]: O[i]=1\n",
    "    elif rnum<=(B[Q[i]-1][0] + B[Q[i]-1][1]): O[i]=2\n",
    "    else: O[i]=3\n",
    "            \n",
    "print (Q[:10],O[:10])                    "
   ]
  },
  {
   "cell_type": "code",
   "execution_count": 11,
   "metadata": {},
   "outputs": [
    {
     "data": {
      "text/plain": [
       "(1000, 1000)"
      ]
     },
     "execution_count": 11,
     "metadata": {},
     "output_type": "execute_result"
    }
   ],
   "source": [
    "len(Q), len(O)"
   ]
  }
 ],
 "metadata": {
  "kernelspec": {
   "display_name": "Python 3",
   "language": "python",
   "name": "python3"
  },
  "language_info": {
   "codemirror_mode": {
    "name": "ipython",
    "version": 3
   },
   "file_extension": ".py",
   "mimetype": "text/x-python",
   "name": "python",
   "nbconvert_exporter": "python",
   "pygments_lexer": "ipython3",
   "version": "3.5.2"
  }
 },
 "nbformat": 4,
 "nbformat_minor": 2
}
