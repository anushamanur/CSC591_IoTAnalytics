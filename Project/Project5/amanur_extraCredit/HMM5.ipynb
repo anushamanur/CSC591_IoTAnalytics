{
 "cells": [
  {
   "cell_type": "code",
   "execution_count": 1,
   "metadata": {},
   "outputs": [],
   "source": [
    "import numpy as np\n",
    "import pandas as pd\n",
    "import random\n",
    "from hmmlearn import hmm\n",
    "import matplotlib.pyplot as plt"
   ]
  },
  {
   "cell_type": "code",
   "execution_count": 2,
   "metadata": {},
   "outputs": [],
   "source": [
    "random.seed(200256758)"
   ]
  },
  {
   "cell_type": "code",
   "execution_count": 3,
   "metadata": {},
   "outputs": [],
   "source": [
    "def generateP(num_states):\n",
    "    P = np.zeros(shape=(num_states,num_states))\n",
    "    for i in range(num_states):\n",
    "        for j in range(num_states):\n",
    "            rnum=random.random()\n",
    "            P[i][j]=rnum\n",
    "        P[i]=P[i]/sum(P[i])\n",
    "    return P"
   ]
  },
  {
   "cell_type": "code",
   "execution_count": 4,
   "metadata": {},
   "outputs": [],
   "source": [
    "def generateB(num_states):\n",
    "    B = np.zeros(shape=(num_states,3))\n",
    "    for i in range(num_states):\n",
    "        for j in range(3):\n",
    "            rnum=random.random()\n",
    "            B[i][j]=rnum\n",
    "        B[i]=B[i]/sum(B[i])\n",
    "    return B"
   ]
  },
  {
   "cell_type": "code",
   "execution_count": 5,
   "metadata": {},
   "outputs": [],
   "source": [
    "def generateOQ(P,B):\n",
    "    Q = np.zeros(1000, dtype = int)\n",
    "    O = np.zeros(1000, dtype = int)    \n",
    "    for i in range(1000):\n",
    "        if i==0:\n",
    "            Q[i]=1\n",
    "        else:\n",
    "            rnum=random.random()\n",
    "            #print (\"Q \", rnum)\n",
    "            if rnum<=P[Q[i-1]-1][0]: Q[i]=1\n",
    "            elif rnum<=(P[Q[i-1]-1][0] + P[Q[i-1]-1][1]): Q[i]=2\n",
    "            elif rnum<=(P[Q[i-1]-1][0] + P[Q[i-1]-1][1] + P[Q[i-1]-1][2]): Q[i]=3\n",
    "            else: Q[i]=4\n",
    "\n",
    "\n",
    "        rnum=random.random()\n",
    "        #print (\"O \", rnum)\n",
    "        if rnum<=B[Q[i]-1][0]: O[i]=1\n",
    "        elif rnum<=(B[Q[i]-1][0] + B[Q[i]-1][1]): O[i]=2\n",
    "        else: O[i]=3\n",
    " \n",
    "    O=O-1\n",
    "    return (O,Q)"
   ]
  },
  {
   "cell_type": "code",
   "execution_count": 6,
   "metadata": {},
   "outputs": [],
   "source": [
    "like=[]\n",
    "aic=[]\n",
    "bic=[]"
   ]
  },
  {
   "cell_type": "code",
   "execution_count": null,
   "metadata": {},
   "outputs": [],
   "source": [
    "for num in range(2,70):\n",
    "    #print (num)\n",
    "    P=generateP(num)\n",
    "    B=generateB(num)\n",
    "    O,Q=generateOQ(P,B)\n",
    "    X = np.atleast_2d([O]).T\n",
    "    model = hmm.MultinomialHMM(n_components=num, n_iter=40)\n",
    "    model.fit(X)\n",
    "    lik=model.score(X)\n",
    "    p =8 + num*3\n",
    "    AIC = (-2)*lik + 2*p\n",
    "    BIC = (-2)*lik + p*3\n",
    "    like.append(lik)\n",
    "    aic.append(AIC)\n",
    "    bic.append(BIC)\n",
    "    "
   ]
  },
  {
   "cell_type": "code",
   "execution_count": 15,
   "metadata": {},
   "outputs": [
    {
     "data": {
      "text/plain": [
       "62"
      ]
     },
     "execution_count": 15,
     "metadata": {},
     "output_type": "execute_result"
    }
   ],
   "source": [
    "np.argmax(aic)"
   ]
  }
 ],
 "metadata": {
  "kernelspec": {
   "display_name": "Python 3",
   "language": "python",
   "name": "python3"
  },
  "language_info": {
   "codemirror_mode": {
    "name": "ipython",
    "version": 3
   },
   "file_extension": ".py",
   "mimetype": "text/x-python",
   "name": "python",
   "nbconvert_exporter": "python",
   "pygments_lexer": "ipython3",
   "version": "3.5.2"
  }
 },
 "nbformat": 4,
 "nbformat_minor": 2
}
